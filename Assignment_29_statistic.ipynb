{
 "cells": [
  {
   "cell_type": "code",
   "execution_count": null,
   "id": "acfce6cf-a8e0-4df4-ba70-8808d2d2c356",
   "metadata": {},
   "outputs": [],
   "source": [
    "# Q1. What are the three measures of central tendency?\n",
    "\"\"\" Mean , Median , Mode \"\"\""
   ]
  },
  {
   "cell_type": "code",
   "execution_count": null,
   "id": "21892558-57d2-49db-b045-3208edb62f85",
   "metadata": {},
   "outputs": [],
   "source": [
    "# Q2. What is the difference between the mean, median, and mode? How are they used to measure the\n",
    "# central tendency of a dataset?\n",
    "\n",
    "\"\"\"\n",
    "mean = mean is the average of the given sample of population .\n",
    "mode = mode is the data point from the dataset who has maximum frequency .\n",
    "median =  The median is the middle value when a data set is ordered from least to greatest .\n",
    "\n",
    "These measures of central tendency are used to summarize the data and provide insights into the \"center\" or typical value of a dataset.\"\"\""
   ]
  },
  {
   "cell_type": "code",
   "execution_count": 16,
   "id": "5c246edd-dd28-4a54-944c-dd923cc32f63",
   "metadata": {},
   "outputs": [
    {
     "name": "stdout",
     "output_type": "stream",
     "text": [
      "mean =  177.01875\n",
      "median =  177.0\n",
      "mode = ModeResult(mode=array([177.]), count=array([3]))\n"
     ]
    }
   ],
   "source": [
    "# Q3. Measure the three measures of central tendency for the given height data:\n",
    "x =  [178,177,176,177,178.2,178,175,179,180,175,178.9,176.2,177,172.5,178,176.5]\n",
    "import numpy as np \n",
    "x = np.array(x)\n",
    "print(\"mean = \" ,np.mean(x))\n",
    "print(\"median = \" ,np.median(x))\n",
    "from scipy import stats\n",
    "print(\"mode =\" , stats.mode(x, keepdims = True))"
   ]
  },
  {
   "cell_type": "code",
   "execution_count": 19,
   "id": "c2b339f9-cf83-4826-9dd3-f262dcca14b8",
   "metadata": {},
   "outputs": [
    {
     "name": "stdout",
     "output_type": "stream",
     "text": [
      "variance =  3.199023437500001\n",
      "standard deviation =  1.7885814036548633\n"
     ]
    }
   ],
   "source": [
    "# Q4. Find the standard deviation for the given data:\n",
    "print(\"variance = \",np.var(x))\n",
    "print(\"standard deviation = \",np.std(x))"
   ]
  },
  {
   "cell_type": "code",
   "execution_count": null,
   "id": "982302e0-b04a-4723-9808-51e4b0d92e96",
   "metadata": {},
   "outputs": [],
   "source": [
    "# Q5. How are measures of dispersion such as range, variance, and standard deviation used to describe\n",
    "# the spread of a dataset? Provide an example.\n",
    "\"\"\"\n",
    "Range: The range is the measure of dispersion and is calculated by taking the difference between the largest and smallest values in a dataset. \n",
    "It gives an idea of the total spread of the data but does not take into account the distribution of values within that range. \n",
    "For example, if we have the following dataset of test scores: 85, 70, 90, 80, 95, the range would be 95 - 70 = 25.\n",
    "\n",
    "Variance: Variance is a measure of the average squared deviation from the mean. \n",
    "It quantifies how much the values in a dataset vary from the mean. \n",
    "To calculate the variance, each data point is subtracted from the mean, squared, and then averaged. \n",
    "A higher variance indicates a greater spread of data points.\n",
    "For example, consider the following dataset of heights (in centimeters): 165, 170, 175, 160, 180. The mean is (165+170+175+160+180)/5 = 170. \n",
    "The deviations from the mean are: -5, 0, 5, -10, 10. \n",
    "Squaring these deviations gives: 25, 0, 25, 100, 100. \n",
    "The variance is the average of these squared deviations, which is (25+0+25+100+100)/5 = 50.\n",
    "\n",
    "Standard Deviation: The standard deviation is the square root of the variance and provides a measure of dispersion in the original unit of measurement. \n",
    "It represents the average amount by which the data points deviate from the mean. \n",
    "A higher standard deviation indicates a greater spread of values. \n",
    "In the previous example, the variance was 50, so the standard deviation is the square root of 50, which is approximately 7.07.\n",
    "\"\"\""
   ]
  },
  {
   "cell_type": "code",
   "execution_count": null,
   "id": "d9a0cc31-f63e-4c90-9b20-09bcfb394256",
   "metadata": {},
   "outputs": [],
   "source": [
    "# Q6. What is a Venn diagram?\n",
    "\"\"\"A Venn diagram is a visual representation of the relationships between different sets or groups of items. \"\"\""
   ]
  },
  {
   "cell_type": "code",
   "execution_count": null,
   "id": "1a7c6e08-4223-4a62-8e96-9b597d972669",
   "metadata": {},
   "outputs": [],
   "source": [
    "# Q7. For the two given sets A = (2,3,4,5,6,7) & B = (0,2,6,8,10). Find:\n",
    "\n",
    "#(i) \tA intersection B\n",
    "\n",
    "#(ii)\tA union B\n",
    "\n",
    "\"\"\"\n",
    "A intersection B = (2,6)\n",
    "A union B = (0,2,3,4,5,6,7,8,10)\"\"\""
   ]
  },
  {
   "cell_type": "code",
   "execution_count": null,
   "id": "a7748283-afb4-4358-96b7-81b4ac65fd24",
   "metadata": {},
   "outputs": [],
   "source": [
    "# Q8. What do you understand about skewness in data?\n",
    "\"\"\" skewness in the data is the measurement of the dissortion of symmetry in the data set \"\"\""
   ]
  },
  {
   "cell_type": "code",
   "execution_count": null,
   "id": "99ec7966-baa5-440e-bd3a-84bd875640bd",
   "metadata": {},
   "outputs": [],
   "source": [
    "# Q9. If a data is right skewed then what will be the position of median with respect to mean?\n",
    "\n",
    "\"\"\"\n",
    "In right skewed \n",
    "median < mean \n",
    "position of medain with respect to mean is left side \"\"\" "
   ]
  },
  {
   "cell_type": "code",
   "execution_count": null,
   "id": "fee731e9-d055-4151-8ddd-6e84a80ce04e",
   "metadata": {},
   "outputs": [],
   "source": [
    "# Q10. Explain the difference between covariance and correlation. How are these measures used in\n",
    "# statistical analysis\n",
    "\"\"\"\n",
    "Covariance and correlation are both measures that describe the relationship between two\n",
    "variables in statistical analysis. but in case of covariance there is no limit of covariance where as correlation has some limit.\"\"\""
   ]
  },
  {
   "cell_type": "code",
   "execution_count": null,
   "id": "0dcb4dc1-e86b-4f2b-a5ad-e89b86cf1e18",
   "metadata": {},
   "outputs": [],
   "source": [
    "# Q11. What is the formula for calculating the sample mean? Provide an example calculation for a dataset.\n",
    "\"\"\"\n",
    "sample mean = (sum of the data set)/(no. of element in data set)\n",
    "\n",
    "e.g dataset = [1,2,3,4,5] , n = 5\n",
    "sample mean = (1+2+3+4+5)/5 = 3 \"\"\""
   ]
  },
  {
   "cell_type": "code",
   "execution_count": null,
   "id": "8cb5e226-846e-4674-a799-9e5b565d0472",
   "metadata": {},
   "outputs": [],
   "source": [
    "# Q12. For a normal distribution data what is the relationship between its measure of central tendency.\n",
    "\n",
    "\"\"\" in normal distribution there is not skewdness present \n",
    "hence,\n",
    "mean = mode = median , all are in perfect center \"\"\""
   ]
  },
  {
   "cell_type": "code",
   "execution_count": null,
   "id": "fd2e9569-e29c-4820-88dd-abcd48dc5eac",
   "metadata": {},
   "outputs": [],
   "source": [
    "# Q13. How is covariance different from correlation?\n",
    "\"\"\" Covariance doesnt have any limit whereas correlation has some limit \"\"\""
   ]
  },
  {
   "cell_type": "code",
   "execution_count": null,
   "id": "0b0bf5a5-6469-4a04-942d-aac28138bf7f",
   "metadata": {},
   "outputs": [],
   "source": [
    "# Q14. How do outliers affect measures of central tendency and dispersion? Provide an example.\n",
    "\"\"\"\n",
    "Outliers can significantly affect measures of central tendency by pulling the \n",
    "mean towards extreme values, while having minimal impact on the median and mode. \n",
    "Outliers also tend to widen the range and increase the variance and standard deviation, \n",
    "causing an inflated measure of dispersion.\"\"\""
   ]
  }
 ],
 "metadata": {
  "kernelspec": {
   "display_name": "Python 3 (ipykernel)",
   "language": "python",
   "name": "python3"
  },
  "language_info": {
   "codemirror_mode": {
    "name": "ipython",
    "version": 3
   },
   "file_extension": ".py",
   "mimetype": "text/x-python",
   "name": "python",
   "nbconvert_exporter": "python",
   "pygments_lexer": "ipython3",
   "version": "3.10.8"
  }
 },
 "nbformat": 4,
 "nbformat_minor": 5
}

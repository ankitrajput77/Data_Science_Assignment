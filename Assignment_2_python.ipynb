{
 "cells": [
  {
   "cell_type": "code",
   "execution_count": 6,
   "id": "e8a2c11b-0ae9-41ec-951c-d1ffafdb2d80",
   "metadata": {},
   "outputs": [
    {
     "name": "stdin",
     "output_type": "stream",
     "text": [
      "enter the percentage : 91\n"
     ]
    },
    {
     "name": "stdout",
     "output_type": "stream",
     "text": [
      "grade A\n"
     ]
    }
   ],
   "source": [
    "# programm to accept percentage and give grade according to that \n",
    "percentage = int(input(\"enter the percentage :\"))\n",
    "if percentage > 90 :\n",
    "    print(\"grade A\")\n",
    "elif percentage > 80 and percentage <= 90 :\n",
    "    print(\"grade B\")\n",
    "elif percentage >= 60 and percentage <= 80 :\n",
    "    print(\"grade C\")\n",
    "else :\n",
    "    print(\"grade D\")"
   ]
  },
  {
   "cell_type": "code",
   "execution_count": 2,
   "id": "15085b91-1d8a-450e-9916-ff2321d7f312",
   "metadata": {},
   "outputs": [
    {
     "name": "stdin",
     "output_type": "stream",
     "text": [
      "enter the cost price of bike : 1234567\n"
     ]
    },
    {
     "name": "stdout",
     "output_type": "stream",
     "text": [
      "your 15% tax is 185185.05\n"
     ]
    }
   ],
   "source": [
    "## write a code to accept the cost price of a bike and display the road text to be paid \n",
    "cost = int(input(\"enter the cost price of bike :\"))\n",
    "if cost > 100000 :\n",
    "    print(\"your 15% tax is\" , cost*0.15)\n",
    "elif cost > 50000 and cost <= 100000 :\n",
    "    print(\"your 10% tax is\" , cost*0.10)\n",
    "elif cost < 50000 :\n",
    "    print(\"your 5% tax is\" , cost*0.05)\n"
   ]
  },
  {
   "cell_type": "code",
   "execution_count": 8,
   "id": "c9e19338-f3e6-40d7-8855-cc867529fe42",
   "metadata": {},
   "outputs": [
    {
     "name": "stdin",
     "output_type": "stream",
     "text": [
      "enter the city name: Delhi\n"
     ]
    },
    {
     "name": "stdout",
     "output_type": "stream",
     "text": [
      "Red Fort\n"
     ]
    }
   ],
   "source": [
    "## program to accept any city and give monument of that city \n",
    "city_name = input(\"enter the city name:\")\n",
    "if city_name == \"Delhi\" :\n",
    "    print(\"Red Fort\")\n",
    "elif city_name == \"Agra\" :\n",
    "    print(\"Taj Mahal\")\n",
    "elif city_name == \"Jaipur\" :\n",
    "    print(\"Jal Mahal\")\n"
   ]
  },
  {
   "cell_type": "code",
   "execution_count": 15,
   "id": "4d746eb0-3592-493b-9c92-5d6847618046",
   "metadata": {},
   "outputs": [
    {
     "name": "stdin",
     "output_type": "stream",
     "text": [
      "enter the number:  1212122\n"
     ]
    },
    {
     "name": "stdout",
     "output_type": "stream",
     "text": [
      "11\n"
     ]
    }
   ],
   "source": [
    "num = int(input(\"enter the number: \"))\n",
    "count = 0 \n",
    "while num > 10 :\n",
    "    num = num/3\n",
    "    count+=1\n",
    "print(count)"
   ]
  },
  {
   "cell_type": "code",
   "execution_count": 16,
   "id": "4bf08707-ac32-4b67-8d0c-eb5863b9973e",
   "metadata": {},
   "outputs": [
    {
     "data": {
      "text/plain": [
       "\" we use while loop when have to repeat block of code for unknown number of time, until our condition mets \\ne.g.\\n\\n## program to calculate the sum of numbers\\n## until the user enters zero\\n\\ntotal = 0\\n\\nnumber = int(input('Enter a number:'))\\n\\nwhile number != 0 :\\n    total += number \\n    number = int(input('Enter a number: '))\\nprint('total: ', total) \""
      ]
     },
     "execution_count": 16,
     "metadata": {},
     "output_type": "execute_result"
    }
   ],
   "source": [
    "## why and when we use while loop , give example too\n",
    "\"\"\" we use while loop when have to repeat block of code for unknown number of time, until our condition mets \n",
    "e.g.\n",
    "\n",
    "## program to calculate the sum of numbers\n",
    "## until the user enters zero\n",
    "\n",
    "total = 0\n",
    "\n",
    "number = int(input('Enter a number:'))\n",
    "\n",
    "while number != 0 :\n",
    "    total += number \n",
    "    number = int(input('Enter a number: '))\n",
    "print('total: ', total) \"\"\""
   ]
  },
  {
   "cell_type": "code",
   "execution_count": 1,
   "id": "634065b4-7f78-420f-aa97-9540145894f2",
   "metadata": {},
   "outputs": [
    {
     "name": "stdout",
     "output_type": "stream",
     "text": [
      "pattern 1:\n",
      "* \n",
      "* * \n",
      "* * * \n",
      "* * * * \n",
      "* * * * * \n",
      "pattern 2:\n",
      "* * * * * \n",
      "* * * * \n",
      "* * * \n",
      "* * \n",
      "* \n",
      "pattern 3:\n",
      "1 \n",
      "2 3 \n",
      "4 5 6 \n",
      "7 8 9 10 \n",
      "11 12 13 14 15 \n"
     ]
    }
   ],
   "source": [
    "# use nested while loop to print three different pattern\n",
    "\n",
    "# pattern 1 \n",
    "i = 0 \n",
    "print(\"pattern 1:\")\n",
    "while i < 5 :\n",
    "    j = 0\n",
    "    while j < i + 1 :\n",
    "        print(\"*\",end=\" \")\n",
    "        j+=1\n",
    "    i+=1\n",
    "    print()\n",
    "print(\"pattern 2:\")\n",
    "i = 1\n",
    "while i <= 5 :\n",
    "    j = 5\n",
    "    while j >= i:\n",
    "        print(\"*\", end = \" \")\n",
    "        j -= 1\n",
    "    print()\n",
    "    i += 1\n",
    "print(\"pattern 3:\")\n",
    "k = 1\n",
    "i = 1\n",
    "while i <= 5 :\n",
    "    j = 1\n",
    "    while j <= i:\n",
    "        print(k, end = \" \")\n",
    "        j += 1\n",
    "        k += 1\n",
    "    print()\n",
    "    i += 1"
   ]
  },
  {
   "cell_type": "code",
   "execution_count": 1,
   "id": "e6e0c62f-eefb-4fe3-9385-9b0ba992a150",
   "metadata": {},
   "outputs": [
    {
     "name": "stdout",
     "output_type": "stream",
     "text": [
      "10\n",
      "9\n",
      "8\n",
      "7\n",
      "6\n",
      "5\n",
      "4\n",
      "3\n",
      "2\n",
      "1\n"
     ]
    }
   ],
   "source": [
    "i = 10 \n",
    "while i >= 1 :\n",
    "    print(i)\n",
    "    i-=1"
   ]
  },
  {
   "cell_type": "code",
   "execution_count": null,
   "id": "0977919e-45d4-497d-99ed-b8d9dbc7b06c",
   "metadata": {},
   "outputs": [],
   "source": []
  }
 ],
 "metadata": {
  "kernelspec": {
   "display_name": "Python 3 (ipykernel)",
   "language": "python",
   "name": "python3"
  },
  "language_info": {
   "codemirror_mode": {
    "name": "ipython",
    "version": 3
   },
   "file_extension": ".py",
   "mimetype": "text/x-python",
   "name": "python",
   "nbconvert_exporter": "python",
   "pygments_lexer": "ipython3",
   "version": "3.10.8"
  }
 },
 "nbformat": 4,
 "nbformat_minor": 5
}

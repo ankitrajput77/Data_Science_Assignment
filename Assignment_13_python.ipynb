{
 "cells": [
  {
   "cell_type": "markdown",
   "id": "6d272eff-35f3-4170-ac0c-8ad14caf6ac8",
   "metadata": {},
   "source": [
    "# Q1. Explain why we have to use the Exception class while creating a Custom Exception.\n",
    "\n",
    "Inheriting from the Exception class ensures consistency and allows your custom exception to be caught and handled by appropriate catch blocks."
   ]
  },
  {
   "cell_type": "code",
   "execution_count": 1,
   "id": "7f5b2918-b99f-4042-9be1-842883395776",
   "metadata": {},
   "outputs": [
    {
     "name": "stdout",
     "output_type": "stream",
     "text": [
      "NoneType\n",
      "object\n"
     ]
    }
   ],
   "source": [
    "# Q2. Write a python program to print Python Exception Hierarchy.\n",
    "\n",
    "import sys\n",
    "\n",
    "def print_exception_hierarchy():\n",
    "    for exc in sys.exc_info()[1].__class__.__mro__:\n",
    "        print(exc.__name__)\n",
    "\n",
    "print_exception_hierarchy()\n"
   ]
  },
  {
   "cell_type": "code",
   "execution_count": 2,
   "id": "7ceb6f87-d279-45cc-b712-46c2f7b5e6ba",
   "metadata": {},
   "outputs": [
    {
     "name": "stdout",
     "output_type": "stream",
     "text": [
      "Error: division by zero\n"
     ]
    }
   ],
   "source": [
    "# Q3. What errors are defined in the ArithmeticError class? Explain any two with an example.\n",
    "\"\"\" \n",
    "The ArithmeticError class in Python is a base class for errors that occur during arithmetic operations. \n",
    "It is a subclass of the built-in Exception class. \n",
    "Some common errors defined in the ArithmeticError class include ZeroDivisionError, \n",
    "OverflowError, and FloatingPointError, among others. \n",
    "Here, I will explain two of these errors with examples: \"\"\"\n",
    "\n",
    "\n",
    "# example \n",
    "\n",
    "# ZeroDivisionError: This error occurs when you try to divide a number by zero.\n",
    "numerator = 10\n",
    "denominator = 0\n",
    "\n",
    "try:\n",
    "    result = numerator / denominator\n",
    "except ZeroDivisionError as e:\n",
    "    print(\"Error:\", e)\n",
    "\n"
   ]
  },
  {
   "cell_type": "code",
   "execution_count": 4,
   "id": "8882ca08-632a-4d97-b9d9-c47bd989d3a2",
   "metadata": {},
   "outputs": [
    {
     "name": "stdout",
     "output_type": "stream",
     "text": [
      "Error: 'address'\n"
     ]
    }
   ],
   "source": [
    "# Q4. Why LookupError class is used? Explain with an example KeyError and IndexError.\n",
    "\"\"\" The LookupError class in Python is a base class for errors that occur when a lookup or indexing operation fails.\n",
    "It is a subclass of the built-in Exception class. \n",
    "The LookupError class is useful when you want to catch multiple error types related to lookup or indexing operations. \n",
    "Here, I will explain two commonly used subclasses of LookupError: KeyError and IndexError. \"\"\"\n",
    "\n",
    "# KeyError: This error occurs when you try to access a key in a dictionary that does not exist.\n",
    "my_dict = {\"name\": \"John\", \"age\": 25}\n",
    "\n",
    "try:\n",
    "    value = my_dict[\"address\"]\n",
    "except KeyError as e:\n",
    "    print(\"Error:\", e)\n",
    "\n",
    "    "
   ]
  },
  {
   "cell_type": "code",
   "execution_count": 5,
   "id": "a40cdc9b-70cf-40ce-98c9-244a266c5061",
   "metadata": {},
   "outputs": [
    {
     "name": "stdout",
     "output_type": "stream",
     "text": [
      "Error: No module named 'non_existent_module'\n"
     ]
    }
   ],
   "source": [
    "# Q5. Explain ImportError. What is ModuleNotFoundError?\n",
    "\"\"\" ImportError is an exception that occurs when an import statement fails \n",
    "to import a module or a specific object from a module. \n",
    "It is raised when there is an issue with locating, loading, or importing the desired module. \"\"\"\n",
    "\n",
    "try:\n",
    "    import non_existent_module\n",
    "except ImportError as e:\n",
    "    print(\"Error:\", e)\n",
    "\n"
   ]
  },
  {
   "cell_type": "code",
   "execution_count": null,
   "id": "5a8aa70b-5ad9-487e-a8f2-e3a96e726be2",
   "metadata": {},
   "outputs": [],
   "source": [
    "# Q6. List down some best practices for exception handling in python.\n",
    "\"\"\"\n",
    "\n",
    "Use specific exception types.\n",
    "Handle exceptions at the right level.\n",
    "Use try-except blocks.\n",
    "Include informative error messages.\n",
    "Avoid broad except clauses.\n",
    "\"\"\""
   ]
  }
 ],
 "metadata": {
  "kernelspec": {
   "display_name": "Python 3 (ipykernel)",
   "language": "python",
   "name": "python3"
  },
  "language_info": {
   "codemirror_mode": {
    "name": "ipython",
    "version": 3
   },
   "file_extension": ".py",
   "mimetype": "text/x-python",
   "name": "python",
   "nbconvert_exporter": "python",
   "pygments_lexer": "ipython3",
   "version": "3.10.8"
  }
 },
 "nbformat": 4,
 "nbformat_minor": 5
}

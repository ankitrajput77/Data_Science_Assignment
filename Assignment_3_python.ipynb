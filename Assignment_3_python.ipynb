{
 "cells": [
  {
   "cell_type": "code",
   "execution_count": 4,
   "id": "3c4acdc8-5157-4c48-b9e0-37f3c95eefb8",
   "metadata": {},
   "outputs": [
    {
     "name": "stdout",
     "output_type": "stream",
     "text": [
      "8\n",
      "472\n"
     ]
    }
   ],
   "source": [
    "## Explain when to use for loop and when to use while loop \n",
    "\n",
    "# we generally use for loop when we already know the number of iteration we have to make , which means when we know how many times a statement has to be executed.\n",
    "\n",
    "# but when we don't know the exact amount of iteration we use while loop, until we get our requeired condition \n",
    "\n",
    "# example of for loop \n",
    "\n",
    "# que : suppose we have to count the words in given string then we use for loop \n",
    "\n",
    "word = \"Ankit Rajput from Indian Institute Of Technology Guwahati\"\n",
    "count = 0 \n",
    "for i in word.split() :\n",
    "    count+=1\n",
    "print(count)\n",
    "\n",
    "# example for while loop \n",
    "\n",
    "# que : we want to calculate number of time we can divide a number by 5 until it become 0 \n",
    "\n",
    "number = 653456\n",
    "count = 0\n",
    "while number != 0 : \n",
    "    count+=1\n",
    "    number = number / 5\n",
    "print(count)"
   ]
  },
  {
   "cell_type": "code",
   "execution_count": 10,
   "id": "14682052-05dc-4152-a451-32ffb36b72f3",
   "metadata": {},
   "outputs": [
    {
     "name": "stdout",
     "output_type": "stream",
     "text": [
      "sum of 10 natural numbers using while loop is : 55\n",
      "product of 10 natural numbers using while loop is : 3628800\n",
      "\n",
      "sum of 10 natural numbers using for loop is : 55\n",
      "product of 10 natural numbers using for loop is : 3628800\n"
     ]
    }
   ],
   "source": [
    "# write a program to sum and product 10 first natural number \n",
    "i = 1 \n",
    "summ1 = 0 \n",
    "product1 = 1\n",
    "while i in range(1,11) :\n",
    "    summ1 = summ1 + i \n",
    "    product1 = product1*i\n",
    "    i+=1\n",
    "print(\"sum of 10 natural numbers using while loop is :\", summ1)\n",
    "print(\"product of 10 natural numbers using while loop is :\",product1) \n",
    "print()\n",
    "\n",
    "summ2 = 0\n",
    "product2 = 1\n",
    "for i in range(1,11) :\n",
    "    summ2 = summ2 + i\n",
    "    product2 = product2*i\n",
    "print(\"sum of 10 natural numbers using for loop is :\", summ2)\n",
    "print(\"product of 10 natural numbers using for loop is :\",product2) "
   ]
  },
  {
   "cell_type": "code",
   "execution_count": 1,
   "id": "9dcbcab5-4669-4fd0-9577-7727b9cc638a",
   "metadata": {},
   "outputs": [
    {
     "name": "stdin",
     "output_type": "stream",
     "text": [
      "enter the number of units:  310\n"
     ]
    },
    {
     "name": "stdout",
     "output_type": "stream",
     "text": [
      "your electricity bill is :  2250.0\n"
     ]
    }
   ],
   "source": [
    "## compute electricity bill for household\n",
    "bill = int(input(\"enter the number of units: \"))\n",
    "units = []\n",
    "i = 0\n",
    "while bill > 100 and i != 3:\n",
    "    units.append(100)\n",
    "    bill = bill - 100 \n",
    "    i+=1\n",
    "units.append(bill)\n",
    "\n",
    "amount_to_pay = 0 \n",
    "\n",
    "charge = [4.5,6,10,20]\n",
    "k = 0\n",
    "for k in range(0,len(units)) :\n",
    "    amount_to_pay = amount_to_pay + charge[k]*units[k]\n",
    "\n",
    "print(\"your electricity bill is : \",amount_to_pay)"
   ]
  },
  {
   "cell_type": "code",
   "execution_count": 19,
   "id": "13f71b7e-afcf-4064-88f5-4626bf95b02a",
   "metadata": {},
   "outputs": [
    {
     "name": "stdout",
     "output_type": "stream",
     "text": [
      "[2, 4, 5, 6, 8, 10, 12, 14, 15, 16, 18, 20, 22, 24, 25, 26, 28, 30, 32, 34, 35, 36, 38, 40, 42, 44, 45, 46, 48, 50, 52, 54, 55, 56, 58, 60, 62, 64, 65, 66, 68, 70, 72, 74, 75, 76, 78, 80, 82, 84, 85, 86, 88, 90, 92, 94, 95, 96, 98, 100]\n"
     ]
    }
   ],
   "source": [
    "# create a list of number 1 to 100 and do cube of all numbers, if cube of number is divisible by 4 or 5 append in new list and print that list\n",
    "\n",
    "list_of_num = []\n",
    "final_list = []\n",
    "for i in range(1,101) :\n",
    "    list_of_num.append(i)\n",
    "i = 0 \n",
    "while i < 100 :\n",
    "    if list_of_num[i]**3 % 4 == 0 or list_of_num[i]**3 % 5 == 0 :\n",
    "        final_list.append(list_of_num[i])\n",
    "    i+=1\n",
    "print(final_list)"
   ]
  },
  {
   "cell_type": "code",
   "execution_count": 21,
   "id": "bf925eb1-ff63-43f0-92d5-bd3c54880bf7",
   "metadata": {},
   "outputs": [
    {
     "name": "stdout",
     "output_type": "stream",
     "text": [
      "numer of vowels are : 12\n"
     ]
    }
   ],
   "source": [
    "# program to calculate the vowels\n",
    "string = \"I want to become a data scientist\"\n",
    "count = 0\n",
    "string = string.lower()\n",
    "for i in range(0,len(string)) :\n",
    "    if string[i] == 'a' or string[i] == 'e' or string[i] == 'o' or string[i] == 'u' or string[i] == 'i' :\n",
    "        count+=1\n",
    "print(\"numer of vowels are :\",count)"
   ]
  },
  {
   "cell_type": "code",
   "execution_count": null,
   "id": "686ec422-2651-488b-8abc-8ee0a97d919d",
   "metadata": {},
   "outputs": [],
   "source": []
  }
 ],
 "metadata": {
  "kernelspec": {
   "display_name": "Python 3 (ipykernel)",
   "language": "python",
   "name": "python3"
  },
  "language_info": {
   "codemirror_mode": {
    "name": "ipython",
    "version": 3
   },
   "file_extension": ".py",
   "mimetype": "text/x-python",
   "name": "python",
   "nbconvert_exporter": "python",
   "pygments_lexer": "ipython3",
   "version": "3.10.8"
  }
 },
 "nbformat": 4,
 "nbformat_minor": 5
}

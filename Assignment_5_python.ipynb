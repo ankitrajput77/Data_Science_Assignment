{
 "cells": [
  {
   "cell_type": "code",
   "execution_count": 22,
   "id": "18023642-3179-4b54-a5dd-93174ae15ef1",
   "metadata": {},
   "outputs": [
    {
     "ename": "TypeError",
     "evalue": "list expected at most 1 argument, got 2",
     "output_type": "error",
     "traceback": [
      "\u001b[0;31m---------------------------------------------------------------------------\u001b[0m",
      "\u001b[0;31mTypeError\u001b[0m                                 Traceback (most recent call last)",
      "Cell \u001b[0;32mIn[22], line 6\u001b[0m\n\u001b[1;32m      2\u001b[0m l \u001b[38;5;241m=\u001b[39m [(\u001b[38;5;124m'\u001b[39m\u001b[38;5;124mSachin Tendulkar\u001b[39m\u001b[38;5;124m'\u001b[39m, \u001b[38;5;241m34357\u001b[39m), (\u001b[38;5;124m'\u001b[39m\u001b[38;5;124mRicky Ponting\u001b[39m\u001b[38;5;124m'\u001b[39m, \u001b[38;5;241m27483\u001b[39m), (\u001b[38;5;124m'\u001b[39m\u001b[38;5;124mJack Kallis\u001b[39m\u001b[38;5;124m'\u001b[39m, \u001b[38;5;241m25534\u001b[39m), (\u001b[38;5;124m'\u001b[39m\u001b[38;5;124mVirat Kohli\u001b[39m\u001b[38;5;124m'\u001b[39m, \u001b[38;5;241m24936\u001b[39m)]\n\u001b[1;32m      4\u001b[0m \u001b[38;5;28mdict\u001b[39m(l)\n\u001b[0;32m----> 6\u001b[0m \u001b[38;5;28;43mlist\u001b[39;49m\u001b[43m(\u001b[49m\u001b[38;5;28;43;01mlambda\u001b[39;49;00m\u001b[43m  \u001b[49m\u001b[43m:\u001b[49m\u001b[43m \u001b[49m\u001b[43msort\u001b[49m\u001b[43m(\u001b[49m\u001b[43ml\u001b[49m\u001b[38;5;241;43m.\u001b[39;49m\u001b[43mvalues\u001b[49m\u001b[43m(\u001b[49m\u001b[43m)\u001b[49m\u001b[43m)\u001b[49m\u001b[43m \u001b[49m\u001b[43m,\u001b[49m\u001b[43ml\u001b[49m\u001b[43m \u001b[49m\u001b[43m)\u001b[49m\n",
      "\u001b[0;31mTypeError\u001b[0m: list expected at most 1 argument, got 2"
     ]
    }
   ],
   "source": [
    "# q.1 Create a python program to sort the given list of tuples based on integer value using a lambda function.\n",
    "l = [('Sachin Tendulkar', 34357), ('Ricky Ponting', 27483), ('Jack Kallis', 25534), ('Virat Kohli', 24936)]\n",
    "\n",
    "l.sort(key = lambda x : x[1] )"
   ]
  },
  {
   "cell_type": "code",
   "execution_count": 1,
   "id": "b8dc6605-d5cd-4e19-8113-33cd04c37716",
   "metadata": {},
   "outputs": [
    {
     "data": {
      "text/plain": [
       "[1, 4, 9, 16, 25, 36, 49, 64, 81, 100]"
      ]
     },
     "execution_count": 1,
     "metadata": {},
     "output_type": "execute_result"
    }
   ],
   "source": [
    "# Q2. Write a Python Program to find the squares of all the numbers in the given list of integers using lambda and map functions.\n",
    "l = [1, 2, 3, 4, 5, 6, 7, 8, 9, 10]\n",
    "\n",
    "list(map(lambda x : x**2 , l))"
   ]
  },
  {
   "cell_type": "code",
   "execution_count": 2,
   "id": "c7d43900-a38a-480d-bcd5-60f984f6e49a",
   "metadata": {},
   "outputs": [
    {
     "data": {
      "text/plain": [
       "('1', '2', '3', '4', '5', '6', '7', '8', '9', '10')"
      ]
     },
     "execution_count": 2,
     "metadata": {},
     "output_type": "execute_result"
    }
   ],
   "source": [
    "# Q3. Write a python program to convert the given list of integers into a tuple of strings. Use map and lambda functions\n",
    "l = [1, 2, 3, 4, 5, 6, 7, 8, 9, 10]\n",
    "\n",
    "tuple(map(lambda x : str(x) , l))"
   ]
  },
  {
   "cell_type": "code",
   "execution_count": 2,
   "id": "d6f20acc-2b13-4f0b-99ca-66215a4d1d25",
   "metadata": {},
   "outputs": [
    {
     "data": {
      "text/plain": [
       "15511210043330985984000000"
      ]
     },
     "execution_count": 2,
     "metadata": {},
     "output_type": "execute_result"
    }
   ],
   "source": [
    "# Q4. Write a python program using reduce function to compute the product of a list containing numbers from 1 to 25.\n",
    "from functools import reduce \n",
    "\n",
    "reduce(lambda x, y : x*y , range(26)[1:])\n"
   ]
  },
  {
   "cell_type": "code",
   "execution_count": 3,
   "id": "3c72461f-349e-476f-a906-f0df5fbb0ceb",
   "metadata": {},
   "outputs": [
    {
     "data": {
      "text/plain": [
       "[6, 60, 90, 120]"
      ]
     },
     "execution_count": 3,
     "metadata": {},
     "output_type": "execute_result"
    }
   ],
   "source": [
    "# Q5. Write a python program to filter the numbers in a given list that are divisible by 2 and 3 using the filter function.\n",
    "l = [2, 3, 6, 9, 27, 60, 90, 120, 55, 46]\n",
    "\n",
    "list(filter(lambda x : x % 2 == 0 and x % 3 == 0 , l)) "
   ]
  },
  {
   "cell_type": "code",
   "execution_count": 10,
   "id": "d92de0b3-519a-48bc-9450-c27287e25ea9",
   "metadata": {},
   "outputs": [
    {
     "data": {
      "text/plain": [
       "['php', 'aba', 'radar', 'level']"
      ]
     },
     "execution_count": 10,
     "metadata": {},
     "output_type": "execute_result"
    }
   ],
   "source": [
    "# Q6. Write a python program to find palindromes in the given list of strings using lambda and filter function.\n",
    "\n",
    "s = ['python', 'php', 'aba', 'radar', 'level']\n",
    "list(filter( lambda x : x == x[::-1] , s))"
   ]
  },
  {
   "cell_type": "code",
   "execution_count": null,
   "id": "cfb94740-ddaf-468e-8cd9-b8bff1ad5a68",
   "metadata": {},
   "outputs": [],
   "source": []
  }
 ],
 "metadata": {
  "kernelspec": {
   "display_name": "Python 3 (ipykernel)",
   "language": "python",
   "name": "python3"
  },
  "language_info": {
   "codemirror_mode": {
    "name": "ipython",
    "version": 3
   },
   "file_extension": ".py",
   "mimetype": "text/x-python",
   "name": "python",
   "nbconvert_exporter": "python",
   "pygments_lexer": "ipython3",
   "version": "3.10.8"
  }
 },
 "nbformat": 4,
 "nbformat_minor": 5
}

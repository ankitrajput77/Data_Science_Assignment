{
 "cells": [
  {
   "cell_type": "code",
   "execution_count": 27,
   "id": "9314323e-4c34-448e-8c41-deaad73584a8",
   "metadata": {},
   "outputs": [
    {
     "name": "stdout",
     "output_type": "stream",
     "text": [
      "calories    True\n",
      "duration    True\n",
      "dtype: bool \n",
      "\n",
      "         calories  duration\n",
      "count    3.000000       3.0\n",
      "mean   396.666667      45.0\n",
      "std     20.816660       5.0\n",
      "min    380.000000      40.0\n",
      "25%    385.000000      42.5\n",
      "50%    390.000000      45.0\n",
      "75%    405.000000      47.5\n",
      "max    420.000000      50.0 \n",
      "\n",
      "1190 \n",
      "\n",
      "<bound method Series.drop of 0    420\n",
      "1    380\n",
      "2    390\n",
      "Name: calories, dtype: int64> \n",
      "\n",
      "0    420\n",
      "1    380\n",
      "2    390\n",
      "Name: calories, dtype: int64 \n",
      "\n"
     ]
    }
   ],
   "source": [
    "# Q1. List any five functions of the pandas library with execution.\n",
    "import pandas as pd\n",
    "data = {\n",
    "  \"calories\": [420, 380, 390],\n",
    "  \"duration\": [50, 40, 45]\n",
    "}\n",
    "\n",
    "df = pd.DataFrame(data)\n",
    "\n",
    "\n",
    "# 1st \n",
    "first = df.any()\n",
    "#2nd\n",
    "second = df.describe()\n",
    "#3rd\n",
    "third = df[\"calories\"].sum()\n",
    "#4th\n",
    "fourth = df[\"calories\"].drop\n",
    "#5th\n",
    "fifth = df[\"calories\"].drop_duplicates()\n",
    "\n",
    "print(first , \"\\n\")\n",
    "print(second , \"\\n\")\n",
    "print(third, \"\\n\")\n",
    "print(fourth, \"\\n\")\n",
    "print(fifth, \"\\n\")"
   ]
  },
  {
   "cell_type": "code",
   "execution_count": 29,
   "id": "031de750-d00a-47b5-bb9b-26708fa2a784",
   "metadata": {},
   "outputs": [
    {
     "data": {
      "text/html": [
       "<div>\n",
       "<style scoped>\n",
       "    .dataframe tbody tr th:only-of-type {\n",
       "        vertical-align: middle;\n",
       "    }\n",
       "\n",
       "    .dataframe tbody tr th {\n",
       "        vertical-align: top;\n",
       "    }\n",
       "\n",
       "    .dataframe thead th {\n",
       "        text-align: right;\n",
       "    }\n",
       "</style>\n",
       "<table border=\"1\" class=\"dataframe\">\n",
       "  <thead>\n",
       "    <tr style=\"text-align: right;\">\n",
       "      <th></th>\n",
       "      <th>A</th>\n",
       "      <th>B</th>\n",
       "      <th>C</th>\n",
       "    </tr>\n",
       "  </thead>\n",
       "  <tbody>\n",
       "    <tr>\n",
       "      <th>1</th>\n",
       "      <td>420</td>\n",
       "      <td>50</td>\n",
       "      <td>50</td>\n",
       "    </tr>\n",
       "    <tr>\n",
       "      <th>3</th>\n",
       "      <td>380</td>\n",
       "      <td>40</td>\n",
       "      <td>40</td>\n",
       "    </tr>\n",
       "    <tr>\n",
       "      <th>5</th>\n",
       "      <td>390</td>\n",
       "      <td>45</td>\n",
       "      <td>45</td>\n",
       "    </tr>\n",
       "  </tbody>\n",
       "</table>\n",
       "</div>"
      ],
      "text/plain": [
       "     A   B   C\n",
       "1  420  50  50\n",
       "3  380  40  40\n",
       "5  390  45  45"
      ]
     },
     "execution_count": 29,
     "metadata": {},
     "output_type": "execute_result"
    }
   ],
   "source": [
    "# Q2. Given a Pandas DataFrame df with columns 'A', 'B', and 'C', write a Python function to re-index the\n",
    "# DataFrame with a new index that starts from 1 and increments by 2 for each row.\n",
    "\n",
    "import pandas as pd\n",
    "\n",
    "def reindex_dataframe(df):\n",
    "    df = df.reset_index(drop=True)\n",
    "    df.index = df.index.map(lambda x: x * 2 + 1)\n",
    "    return df\n",
    "\n",
    "data = {\"A\": [420, 380, 390], \"B\": [50, 40, 45], \"C\" : [50, 40, 45]}\n",
    "\n",
    "df = pd.DataFrame(data)\n",
    "\n",
    "df = reindex_dataframe(df)\n",
    "\n",
    "df\n"
   ]
  },
  {
   "cell_type": "code",
   "execution_count": 33,
   "id": "367b9e3e-dc61-4297-8bb7-9920cd44b600",
   "metadata": {},
   "outputs": [],
   "source": [
    "#Q3. You have a Pandas DataFrame df with a column named 'Values'. Write a Python function that\n",
    "# iterates over the DataFrame and calculates the sum of the first three values in the 'Values' column. The\n",
    "# function should print the sum to the console.\n",
    "\n",
    "def sum_of_three(df):\n",
    "    df_sum = df[0:3][\"Values\"].sum()\n",
    "    return df_sum\n",
    "\n"
   ]
  },
  {
   "cell_type": "code",
   "execution_count": 34,
   "id": "ff8d1eb5-894f-4c41-92b3-d143005322fe",
   "metadata": {},
   "outputs": [
    {
     "name": "stdout",
     "output_type": "stream",
     "text": [
      "60\n"
     ]
    }
   ],
   "source": [
    "# For example, if the 'Values' column of df contains the values [10, 20, 30, 40, 50], your function should\n",
    "# calculate and print the sum of the first three values, which is 60.\n",
    "\n",
    "import pandas as pd \n",
    "\n",
    "data = {\n",
    "  \"Values\": [10, 20, 30, 40, 50],\n",
    "  \"duration\": [10, 20, 30, 40, 50]\n",
    "}\n",
    "\n",
    "def sum_of_three(df):\n",
    "    df_sum = df[0:3][\"Values\"].sum()\n",
    "    return df_sum\n",
    "\n",
    "df = pd.DataFrame(data)\n",
    "\n",
    "print(sum_of_three(df))\n"
   ]
  },
  {
   "cell_type": "code",
   "execution_count": 16,
   "id": "6c161d17-9bdf-4262-afb6-a794bf792298",
   "metadata": {},
   "outputs": [
    {
     "name": "stdout",
     "output_type": "stream",
     "text": [
      "                        Text  Word_Count\n",
      "0                Hello world           2\n",
      "1         This is a sentence           4\n",
      "2  Python programming is fun           4\n"
     ]
    }
   ],
   "source": [
    "# Q4. Given a Pandas DataFrame df with a column 'Text', write a Python function to create a new column\n",
    "# 'Word_Count' that contains the number of words in each row of the 'Text' column.\n",
    "\n",
    "def new_col(df):\n",
    "    lt = list(df[\"Text\"])\n",
    "    lt_word = list(map(lambda x : len(x.split()) , lt))\n",
    "    df[\"Word_Count\"] = lt_word\n",
    "    return df\n",
    "\n",
    "\n",
    "# example\n",
    "import pandas as pd \n",
    "df = pd.DataFrame({'Text': ['Hello world', 'This is a sentence', 'Python programming is fun']})\n",
    "df = new_col(df)\n",
    "print(df)"
   ]
  },
  {
   "cell_type": "code",
   "execution_count": 14,
   "id": "677e6763-7a69-4e1d-9dab-aa545bf360cf",
   "metadata": {},
   "outputs": [],
   "source": [
    "# Q5. How are DataFrame.size() and DataFrame.shape() different?\n",
    "\n",
    "\"\"\" DataFrame.size() will return row*column where DataFrame.shape() will return row*column \"\"\""
   ]
  },
  {
   "cell_type": "code",
   "execution_count": null,
   "id": "fc4ad7ac-3024-4b64-bf2a-abf4e1d0edf1",
   "metadata": {},
   "outputs": [],
   "source": [
    "# Q6. Which function of pandas do we use to read an excel file?\n",
    "\"\"\" df = pd.read_excel('filename.xlsx') \"\"\""
   ]
  },
  {
   "cell_type": "code",
   "execution_count": null,
   "id": "3caf2ed8-9475-4a65-9566-4b7e7c3d8d78",
   "metadata": {},
   "outputs": [],
   "source": [
    "# Q7. You have a Pandas DataFrame df that contains a column named 'Email' that contains email\n",
    "# addresses in the format 'username@domain.com'. Write a Python function that creates a new column\n",
    "# 'Username' in df that contains only the username part of each email address.\n",
    "\n",
    "def unser_name(df):\n",
    "    df['Username'] = df['Email'].str.split('@').str[0]\n",
    "    return df"
   ]
  },
  {
   "cell_type": "code",
   "execution_count": 18,
   "id": "8a90cdf3-c125-4179-ab99-7640c1175963",
   "metadata": {},
   "outputs": [],
   "source": [
    "# Q8. You have a Pandas DataFrame df with columns 'A', 'B', and 'C'. Write a Python function that selects\n",
    "# all rows where the value in column 'A' is greater than 5 and the value in column 'B' is less than 10. The\n",
    "# function should return a new DataFrame that contains only the selected rows.\n",
    "import pandas as pd\n",
    "def filterred(df):\n",
    "    new_df = df[(df[\"A\"] > 5) & (df[\"B\"] < 10)]\n",
    "    return new_df\n"
   ]
  },
  {
   "cell_type": "code",
   "execution_count": 20,
   "id": "814253a6-f682-45f5-95a1-b5d93d398139",
   "metadata": {},
   "outputs": [],
   "source": [
    "# Q9. Given a Pandas DataFrame df with a column 'Values', write a Python function to calculate the mean,\n",
    "# median, and standard deviation of the values in the 'Values' column.\n",
    "\n",
    "import pandas as pd\n",
    "\n",
    "def calculate_stats(df):\n",
    "    values = df['Values']\n",
    "\n",
    "    mean_value = values.mean()\n",
    "    median_value = values.median()\n",
    "    std_value = values.std()\n",
    "\n",
    "    return mean_value, median_value, std_value\n"
   ]
  },
  {
   "cell_type": "code",
   "execution_count": 23,
   "id": "c06c810e-12a1-42ea-bc2d-73f6480caa04",
   "metadata": {},
   "outputs": [],
   "source": [
    "# Q10. Given a Pandas DataFrame df with a column 'Sales' and a column 'Date', write a Python function to\n",
    "# create a new column 'MovingAverage' that contains the moving average of the sales for the past 7 days\n",
    "# for each row in the DataFrame. The moving average should be calculated using a window of size 7 and\n",
    "# should include the current day.\n",
    "\n",
    "import pandas as pd\n",
    "\n",
    "def calculate_moving_average(df):\n",
    "    df['MovingAverage'] = df['Sales'].rolling(window=7, min_periods=1).mean()\n",
    "    return df\n"
   ]
  },
  {
   "cell_type": "code",
   "execution_count": 22,
   "id": "7e033536-b8f5-4ee8-bfd4-c622c054a3a9",
   "metadata": {},
   "outputs": [],
   "source": [
    "# Q11. You have a Pandas DataFrame df with a column 'Date'. Write a Python function that creates a new\n",
    "# column 'Weekday' in the DataFrame. The 'Weekday' column should contain the weekday name (e.g.\n",
    "# Monday, Tuesday) corresponding to each date in the 'Date' column.\n",
    "\n",
    "import pandas as pd\n",
    "\n",
    "def add_weekday_column(df):\n",
    "    df['Weekday'] = df['Date'].dt.strftime('%A')\n",
    "    return df\n"
   ]
  },
  {
   "cell_type": "code",
   "execution_count": 21,
   "id": "455b01cb-5c74-4faf-abe0-0fed3fddb794",
   "metadata": {},
   "outputs": [],
   "source": [
    "# Q12. Given a Pandas DataFrame df with a column 'Date' that contains timestamps, write a Python\n",
    "# function to select all rows where the date is between '2023-01-01' and '2023-01-31'.\n",
    "\n",
    "import pandas as pd\n",
    "\n",
    "def select_rows_between_dates(df):\n",
    "    start_date = pd.to_datetime('2023-01-01')\n",
    "    end_date = pd.to_datetime('2023-01-31')\n",
    "\n",
    "    selected_rows = df[df['Date'].between(start_date, end_date)]\n",
    "    return selected_rows\n"
   ]
  },
  {
   "cell_type": "code",
   "execution_count": 24,
   "id": "6918c29d-a101-4a2f-b05c-c3a746949c5a",
   "metadata": {},
   "outputs": [],
   "source": [
    "# Q13. To use the basic functions of pandas, what is the first and foremost necessary library that needs to\n",
    "# be imported?\n",
    "import pandas as pd"
   ]
  },
  {
   "cell_type": "code",
   "execution_count": null,
   "id": "55662bb3-f72f-4e58-bd72-46d842df7f8a",
   "metadata": {},
   "outputs": [],
   "source": []
  }
 ],
 "metadata": {
  "kernelspec": {
   "display_name": "Python 3 (ipykernel)",
   "language": "python",
   "name": "python3"
  },
  "language_info": {
   "codemirror_mode": {
    "name": "ipython",
    "version": 3
   },
   "file_extension": ".py",
   "mimetype": "text/x-python",
   "name": "python",
   "nbconvert_exporter": "python",
   "pygments_lexer": "ipython3",
   "version": "3.10.8"
  }
 },
 "nbformat": 4,
 "nbformat_minor": 5
}

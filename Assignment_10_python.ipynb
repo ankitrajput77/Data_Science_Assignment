{
 "cells": [
  {
   "cell_type": "code",
   "execution_count": 1,
   "id": "5a46694b-8ff0-4803-a67c-5efe5aac6bbc",
   "metadata": {},
   "outputs": [],
   "source": [
    "# Q1, Create a vehicle class with an init method having instance variables as name_of_vehicle, max_speed and average_of_vehicle.\n",
    "\n",
    "class vehicle :\n",
    "    \n",
    "    def __init__(self, name_of_vehicle, max_speed, average_of_vehicle):\n",
    "        self.name_of_vehicle = name_of_vehicle\n",
    "        self.max_speed = max_speed\n",
    "        self.average_of_vehicle = average_of_vehicle\n",
    "    \n"
   ]
  },
  {
   "cell_type": "code",
   "execution_count": 25,
   "id": "ff3c8e29-0bdf-4fc1-a9cb-ced1dfe864ae",
   "metadata": {},
   "outputs": [
    {
     "name": "stdout",
     "output_type": "stream",
     "text": [
      "Sadan\n"
     ]
    },
    {
     "data": {
      "text/plain": [
       "4"
      ]
     },
     "execution_count": 25,
     "metadata": {},
     "output_type": "execute_result"
    }
   ],
   "source": [
    "# Q2. Create a child class car from the vehicle class created in Que 1, which will inherit the vehicle class.\n",
    "# Create a method named seating_capacity which takes capacity as an argument and returns the name of\n",
    "# the vehicle and its seating capacity.\n",
    "\n",
    "class car(vehicle):\n",
    "    \n",
    "    seating_cap = 0\n",
    "    def seating_capacity(self,capacity):\n",
    "        self.seating_cap = capacity\n",
    "        print(self.name_of_vehicle)\n",
    "        return self.seating_cap\n",
    "\n",
    "obj_car = car(\"Sadan\" , 200 , 100 )\n",
    "obj_car.seating_capacity(4)"
   ]
  },
  {
   "cell_type": "code",
   "execution_count": 26,
   "id": "6821869d-9f42-4c75-8c90-ba8cf2a931fa",
   "metadata": {},
   "outputs": [],
   "source": [
    "# Q3. What is multiple inheritance? Write a python code to demonstrate multiple inheritance.\n",
    "\n",
    "# multiple inheritance \n",
    "\n",
    "\n",
    "\"\"\" multi inheritance is type of inheritance that has property for a class to inherit property of more than one class \"\"\" \n",
    "class one :\n",
    "    def first(self) :\n",
    "        print(\"first\")\n",
    "class two :\n",
    "    def second(self) :\n",
    "        print(\"second\")\n",
    "class three(one,two) :\n",
    "    def third(self) :\n",
    "        print(\"third\")\n",
    "        \n"
   ]
  },
  {
   "cell_type": "code",
   "execution_count": 27,
   "id": "b2ebc18b-fb31-47fe-bec6-d4940c9d67a5",
   "metadata": {},
   "outputs": [
    {
     "name": "stdout",
     "output_type": "stream",
     "text": [
      "Alice\n",
      "25\n",
      "Bob\n",
      "30\n"
     ]
    }
   ],
   "source": [
    "# Q4. What are getter and setter in python? Create a class and create a getter and a setter method in this class\n",
    "\n",
    "\"\"\" Getter methods, are used to retrieve the value of an attribute. \n",
    "They typically have the naming convention get_attribute_name().\n",
    "\n",
    "Setter methods, are used to modify the value of an attribute. \n",
    "They typically have the naming convention set_attribute_name(new_value). \"\"\"\n",
    "\n",
    "class Person:\n",
    "    def __init__(self, name, age):\n",
    "        self._name = name\n",
    "        self._age = age\n",
    "\n",
    "    def get_name(self):\n",
    "        return self._name\n",
    "\n",
    "    def set_name(self, new_name):\n",
    "        self._name = new_name\n",
    "\n",
    "    def get_age(self):\n",
    "        return self._age\n",
    "\n",
    "    def set_age(self, new_age):\n",
    "        if new_age >= 0:\n",
    "            self._age = new_age\n",
    "\n",
    "person = Person(\"Alice\", 25)\n",
    "\n",
    "print(person.get_name()) \n",
    "print(person.get_age()) \n",
    "\n",
    "person.set_name(\"Bob\")\n",
    "person.set_age(30)\n",
    "\n",
    "print(person.get_name())  \n",
    "print(person.get_age())  \n",
    "\n",
    "\n"
   ]
  },
  {
   "cell_type": "code",
   "execution_count": 29,
   "id": "43319826-4bc2-403b-a15b-7e986b7f4828",
   "metadata": {},
   "outputs": [
    {
     "name": "stdout",
     "output_type": "stream",
     "text": [
      "Calculating area.\n",
      "Area of rectangle: 15\n"
     ]
    }
   ],
   "source": [
    "# Q5.What is method overriding in python? Write a python code to demonstrate method overriding.\n",
    "\n",
    "class Shape:\n",
    "    def area(self):\n",
    "        print(\"Calculating area.\")\n",
    "\n",
    "class Rectangle(Shape):\n",
    "    def __init__(self, width, height):\n",
    "        self.width = width\n",
    "        self.height = height\n",
    "\n",
    "    def area(self):\n",
    "        return self.width * self.height\n",
    "\n",
    "shape = Shape()\n",
    "rectangle = Rectangle(5, 3)\n",
    "\n",
    "\n",
    "shape.area()  \n",
    "rectangle_area = rectangle.area()\n",
    "print(\"Area of rectangle:\", rectangle_area)\n"
   ]
  },
  {
   "cell_type": "code",
   "execution_count": null,
   "id": "53c36c0a-2ded-462d-86fa-9fdd2c18887a",
   "metadata": {},
   "outputs": [],
   "source": []
  }
 ],
 "metadata": {
  "kernelspec": {
   "display_name": "Python 3 (ipykernel)",
   "language": "python",
   "name": "python3"
  },
  "language_info": {
   "codemirror_mode": {
    "name": "ipython",
    "version": 3
   },
   "file_extension": ".py",
   "mimetype": "text/x-python",
   "name": "python",
   "nbconvert_exporter": "python",
   "pygments_lexer": "ipython3",
   "version": "3.10.8"
  }
 },
 "nbformat": 4,
 "nbformat_minor": 5
}

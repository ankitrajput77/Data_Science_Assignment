{
 "cells": [
  {
   "cell_type": "code",
   "execution_count": 2,
   "id": "890eea25-1928-4704-8fc6-c034635ddba3",
   "metadata": {},
   "outputs": [
    {
     "name": "stdout",
     "output_type": "stream",
     "text": [
      "ok we changed its defination from skeleton to our use\n"
     ]
    }
   ],
   "source": [
    "# Q1. What is Abstraction in OOps? Explain with an example.\n",
    "\n",
    "\"\"\" Abstraction is one of the four pillar of Oops. Abstraction is process to reduce\n",
    "complexity by hiding unnecessary information from user.\"\"\"\n",
    "# abstraction \n",
    "\n",
    "import abc\n",
    "\n",
    "class demo:\n",
    "    \n",
    "    @abc.abstractmethod\n",
    "    def number1(self):\n",
    "        pass \n",
    "    @abc.abstractmethod\n",
    "    def number2(self):\n",
    "        pass\n",
    "    @abc.abstractmethod\n",
    "    def number3(self):\n",
    "        pass\n",
    "# abstration skeleton is ready to use \n",
    "\n",
    "class demo_use(demo):\n",
    "    def number1(self):\n",
    "        print(\"ok we changed its defination from skeleton to our use\")\n",
    "\n",
    "obj = demo_use()\n",
    "obj.number1()"
   ]
  },
  {
   "cell_type": "code",
   "execution_count": 3,
   "id": "fe5fe491-61d1-42fd-a5f6-c052ac223014",
   "metadata": {},
   "outputs": [
    {
     "name": "stdout",
     "output_type": "stream",
     "text": [
      "1234567890\n",
      "1000\n",
      "Deposited $500. New balance: $1500\n",
      "Withdrew $200. New balance: $1300\n",
      "5000\n",
      "Insufficient funds.\n"
     ]
    },
    {
     "data": {
      "text/plain": [
       "\" Abstraction is achieved by presenting a simplified interface to the user.\\nThe user can use account by depositing or withdrawing money using the \\ndeposit and withdraw methods, without knowing the underlying implementation \\ndetails of the account.\\n\\nEncapsulation is demonstrated by encapsulating the account's data \\n(account_number, balance) and operations (deposit, withdraw) within \\nthe BankAccount class. The attributes are not accessed directly\\noutside the class, and the operations on the account are performed\\nthrough the methods provided \""
      ]
     },
     "execution_count": 3,
     "metadata": {},
     "output_type": "execute_result"
    }
   ],
   "source": [
    "# Q2. Differentiate between Abstraction and Encapsulation. Explain with an example.\n",
    "\n",
    "\"\"\"Abstraction is a way of representing some specific data. \n",
    "Encapsulation is a way of hiding something and \n",
    "exposing only the parts you wish to expose.\"\"\"\n",
    "\n",
    "# Abstraction and Encapsulation Example\n",
    "\n",
    "class BankAccount:\n",
    "    def __init__(self, account_number, balance):\n",
    "        self.account_number = account_number\n",
    "        self.balance = balance\n",
    "\n",
    "    def deposit(self, amount):\n",
    "        self.balance += amount\n",
    "        print(f\"Deposited ${amount}. New balance: ${self.balance}\")\n",
    "\n",
    "    def withdraw(self, amount):\n",
    "        if amount <= self.balance:\n",
    "            self.balance -= amount\n",
    "            print(f\"Withdrew ${amount}. New balance: ${self.balance}\")\n",
    "        else:\n",
    "            print(\"Insufficient funds.\")\n",
    "\n",
    "account = BankAccount(\"1234567890\", 1000)\n",
    "\n",
    "print(account.account_number)\n",
    "print(account.balance)\n",
    "\n",
    "account.deposit(500)  \n",
    "account.withdraw(200) \n",
    "\n",
    "account.balance = 5000\n",
    "print(account.balance) \n",
    "\n",
    "account.withdraw(6000)  \n",
    "\n",
    "\n",
    "\"\"\" Abstraction is achieved by presenting a simplified interface to the user.\n",
    "The user can use account by depositing or withdrawing money using the \n",
    "deposit and withdraw methods, without knowing the underlying implementation \n",
    "details of the account.\n",
    "\n",
    "Encapsulation is demonstrated by encapsulating the account's data \n",
    "(account_number, balance) and operations (deposit, withdraw) within \n",
    "the BankAccount class. The attributes are not accessed directly\n",
    "outside the class, and the operations on the account are performed\n",
    "through the methods provided \"\"\""
   ]
  },
  {
   "cell_type": "code",
   "execution_count": 4,
   "id": "0a90a1ff-90ab-4c3e-9171-617ba04b0e71",
   "metadata": {},
   "outputs": [
    {
     "data": {
      "text/plain": [
       "' The abc module in Python stands for \"Abstract Base Classes.\"\\nIt provides a way to define abstract base classes in Python,\\nwhich are classes that are meant to be inherited from but not \\ninstantiated directly. Abstract base classes serve as templates\\nor blueprints for subclasses to follow.\\n\\nThe abc module provides the ABC class and the abstractmethod decorator,\\nwhich are used to define abstract base classes and abstract methods,\\nespectively.example to illustrate the usage of the abc module '"
      ]
     },
     "execution_count": 4,
     "metadata": {},
     "output_type": "execute_result"
    }
   ],
   "source": [
    "# Q3. What is abc module in python? Why is it used?\n",
    "\n",
    "\"\"\" The abc module in Python stands for \"Abstract Base Classes.\"\n",
    "It provides a way to define abstract base classes in Python,\n",
    "which are classes that are meant to be inherited from but not \n",
    "instantiated directly. Abstract base classes serve as templates\n",
    "or blueprints for subclasses to follow.\n",
    "\n",
    "The abc module provides the ABC class and the abstractmethod decorator,\n",
    "which are used to define abstract base classes and abstract methods,\n",
    "espectively.example to illustrate the usage of the abc module \"\"\""
   ]
  },
  {
   "cell_type": "code",
   "execution_count": 6,
   "id": "18e5cdad-5cea-4a3a-9a7c-0e06be3f7a10",
   "metadata": {},
   "outputs": [
    {
     "data": {
      "text/plain": [
       "' Data abstraction can be achieved in Python by using classes and objects. \\nHere are a few techniques to achieve data abstraction:\\nEncapsulation\\nAccess Modifiers\\nGetters and Setters '"
      ]
     },
     "execution_count": 6,
     "metadata": {},
     "output_type": "execute_result"
    }
   ],
   "source": [
    "# Q4. How can we achieve data abstraction?\n",
    "\"\"\" Data abstraction can be achieved in Python by using classes and objects. \n",
    "Here are a few techniques to achieve data abstraction:\n",
    "Encapsulation\n",
    "Access Modifiers\n",
    "Getters and Setters \"\"\""
   ]
  },
  {
   "cell_type": "code",
   "execution_count": 7,
   "id": "c90db5c3-e736-49df-8a84-565d4b5090ea",
   "metadata": {},
   "outputs": [
    {
     "ename": "TypeError",
     "evalue": "Can't instantiate abstract class AbstractClass with abstract method abstract_method",
     "output_type": "error",
     "traceback": [
      "\u001b[0;31m---------------------------------------------------------------------------\u001b[0m",
      "\u001b[0;31mTypeError\u001b[0m                                 Traceback (most recent call last)",
      "Cell \u001b[0;32mIn[7], line 14\u001b[0m\n\u001b[1;32m     10\u001b[0m         \u001b[38;5;28;01mpass\u001b[39;00m\n\u001b[1;32m     12\u001b[0m \u001b[38;5;66;03m# Trying to create an instance of the abstract class\u001b[39;00m\n\u001b[1;32m     13\u001b[0m \u001b[38;5;66;03m# This will raise a TypeError\u001b[39;00m\n\u001b[0;32m---> 14\u001b[0m instance \u001b[38;5;241m=\u001b[39m \u001b[43mAbstractClass\u001b[49m\u001b[43m(\u001b[49m\u001b[43m)\u001b[49m\n",
      "\u001b[0;31mTypeError\u001b[0m: Can't instantiate abstract class AbstractClass with abstract method abstract_method"
     ]
    }
   ],
   "source": [
    "# Q5. Can we create an instance of an abstract class? Explain your answer.\n",
    "\n",
    "\"\"\" No \"\"\"\n",
    "\n",
    "from abc import ABC, abstractmethod\n",
    "\n",
    "class AbstractClass(ABC):\n",
    "    @abstractmethod\n",
    "    def abstract_method(self):\n",
    "        pass\n",
    "\n",
    "# Trying to create an instance of the abstract class\n",
    "# This will raise a TypeError\n",
    "instance = AbstractClass()\n"
   ]
  },
  {
   "cell_type": "code",
   "execution_count": null,
   "id": "9c50afa7-df53-4e94-af80-46cedd491989",
   "metadata": {},
   "outputs": [],
   "source": []
  }
 ],
 "metadata": {
  "kernelspec": {
   "display_name": "Python 3 (ipykernel)",
   "language": "python",
   "name": "python3"
  },
  "language_info": {
   "codemirror_mode": {
    "name": "ipython",
    "version": 3
   },
   "file_extension": ".py",
   "mimetype": "text/x-python",
   "name": "python",
   "nbconvert_exporter": "python",
   "pygments_lexer": "ipython3",
   "version": "3.10.8"
  }
 },
 "nbformat": 4,
 "nbformat_minor": 5
}

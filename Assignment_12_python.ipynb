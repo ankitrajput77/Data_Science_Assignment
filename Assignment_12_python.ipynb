{
 "cells": [
  {
   "cell_type": "code",
   "execution_count": 2,
   "id": "2788b525-2ee0-4676-b4fb-9c497e782bf3",
   "metadata": {},
   "outputs": [
    {
     "data": {
      "text/plain": [
       "' An exception is an event which accour when code is being executed\\nbut flow of code is disturbed due to some sort of error\\n\\ndifference between Exception and syntax error :\\n\\nsyntax error occur due to mistake in writting in code representation\\nand in case of Expection, syntax of code maybe fine but error occurs at runtime due to some calculation \\nmisktake or some theoritical mistake.\\n\\n'"
      ]
     },
     "execution_count": 2,
     "metadata": {},
     "output_type": "execute_result"
    }
   ],
   "source": [
    "# Q1. Wht is Exception in python? Write the difference between Exception and syntax errors\n",
    "\"\"\" An exception is an event which accour when code is being executed\n",
    "but flow of code is disturbed due to some sort of error\n",
    "\n",
    "difference between Exception and syntax error :\n",
    "\n",
    "syntax error occur due to mistake in writting in code representation\n",
    "and in case of Expection, syntax of code maybe fine but error occurs at runtime due to some calculation \n",
    "misktake or some theoritical mistake.\n",
    "\n",
    "\"\"\""
   ]
  },
  {
   "cell_type": "code",
   "execution_count": 3,
   "id": "6cd860b9-0dc0-4a63-bc4a-262a36035a99",
   "metadata": {},
   "outputs": [
    {
     "name": "stdout",
     "output_type": "stream",
     "text": [
      "line2\n",
      "line3 10\n"
     ]
    },
    {
     "ename": "ZeroDivisionError",
     "evalue": "division by zero",
     "output_type": "error",
     "traceback": [
      "\u001b[0;31m---------------------------------------------------------------------------\u001b[0m",
      "\u001b[0;31mZeroDivisionError\u001b[0m                         Traceback (most recent call last)",
      "Cell \u001b[0;32mIn[3], line 10\u001b[0m\n\u001b[1;32m      8\u001b[0m \u001b[38;5;28mprint\u001b[39m(\u001b[38;5;124m\"\u001b[39m\u001b[38;5;124mline2\u001b[39m\u001b[38;5;124m\"\u001b[39m)\n\u001b[1;32m      9\u001b[0m \u001b[38;5;28mprint\u001b[39m(\u001b[38;5;124m\"\u001b[39m\u001b[38;5;124mline3\u001b[39m\u001b[38;5;124m\"\u001b[39m,a)\n\u001b[0;32m---> 10\u001b[0m b \u001b[38;5;241m=\u001b[39m \u001b[43ma\u001b[49m\u001b[43m \u001b[49m\u001b[38;5;241;43m/\u001b[39;49m\u001b[43m \u001b[49m\u001b[38;5;241;43m0\u001b[39;49m \n\u001b[1;32m     11\u001b[0m \u001b[38;5;28mprint\u001b[39m(\u001b[38;5;124m\"\u001b[39m\u001b[38;5;124mline4\u001b[39m\u001b[38;5;124m\"\u001b[39m)\n\u001b[1;32m     12\u001b[0m \u001b[38;5;28mprint\u001b[39m(\u001b[38;5;124m\"\u001b[39m\u001b[38;5;124mline6\u001b[39m\u001b[38;5;124m\"\u001b[39m,b)\n",
      "\u001b[0;31mZeroDivisionError\u001b[0m: division by zero"
     ]
    }
   ],
   "source": [
    "# what happen if Exception is not handled , explain with example \n",
    "\"\"\" When Exception is not handled, block of code after Exception will not be executed\n",
    "\n",
    "e.g : Exception will happen at line 4 ( as we have divided it by 0 ) and after line 4 everything is \n",
    "fine but as Exception is not handled after line 4 anything will not executed  \"\"\"\n",
    "\n",
    "a = 10 \n",
    "print(\"line2\")\n",
    "print(\"line3\",a)\n",
    "b = a / 0 \n",
    "print(\"line4\")\n",
    "print(\"line6\",b)"
   ]
  },
  {
   "cell_type": "code",
   "execution_count": 4,
   "id": "2ea67445-f7cf-4b19-9a7d-f5b3a2918589",
   "metadata": {},
   "outputs": [
    {
     "name": "stdout",
     "output_type": "stream",
     "text": [
      "file is not here: [Errno 2] No such file or directory: 'tesrsfff.txt'\n"
     ]
    }
   ],
   "source": [
    "# Q3. Which python statements are used to catch and handle exception ? explain with example\n",
    "\"\"\"The try and except statements in Python is used to catch and handle exceptions. \n",
    "Python executes code following the try statement as a “normal” part of the program.\n",
    "\"\"\"\n",
    "# example \n",
    "try : \n",
    "    f = open(\"tesrsfff.txt\",\"r\")\n",
    "except Exception as e :\n",
    "    print(\"file is not here:\",e)\n"
   ]
  },
  {
   "cell_type": "code",
   "execution_count": null,
   "id": "2015af92-97cb-4e68-8071-ea05f18e86e2",
   "metadata": {},
   "outputs": [],
   "source": [
    "# Q4. exaplain the following \n",
    "\n",
    "# try and else\n",
    "\n",
    "\"\"\" try is use to catch the exception and else is used if \n",
    "try statement block worked without catching exception properly \"\"\"\n",
    "\n",
    "# finally \n",
    "\n",
    "\"\"\" finally is used in all cases means it doesnt matter \n",
    "if try catches exception or not finally will execute always \"\"\"\n",
    "\n",
    "# raise \n",
    "\n",
    "\"\"\" raise keyword is use to raise the exception \n",
    "e.g \n",
    "\n",
    "x = -1\n",
    "if x < 0:\n",
    "  raise Exception(\"Sorry, no numbers below zero\") \"\"\" \n"
   ]
  },
  {
   "cell_type": "code",
   "execution_count": 20,
   "id": "6d71f5c8-ee08-4cad-a8a6-cfb8fb876768",
   "metadata": {},
   "outputs": [
    {
     "name": "stdin",
     "output_type": "stream",
     "text": [
      "enter your age -34\n"
     ]
    },
    {
     "name": "stdout",
     "output_type": "stream",
     "text": [
      "entered age is negative \n"
     ]
    }
   ],
   "source": [
    "# Q5. what is custom exception? why do we need them give example \n",
    "\"\"\" Custom Exception : it is user defined exceptions by\n",
    "creating a new class that is derived from the built-in Exception class\"\"\"\n",
    "\n",
    "# example of need \n",
    "class validate_details(Exception):\n",
    "    \n",
    "    def __init__(self , msg) : \n",
    "        self.msg = msg\n",
    "        \n",
    "def validate_age(age) : \n",
    "    if age < 0 :\n",
    "        raise validate_details(\"entered age is negative \" )\n",
    "    elif age > 200 : \n",
    "        raise validate_details(\"enterd age is very high \" )\n",
    "    else :\n",
    "        print(\"age is valid\" )\n",
    "try :\n",
    "    age = int(input(\"enter your age\" ))\n",
    "    validate_age(age)\n",
    "except validate_details as e :\n",
    "    print(e)\n"
   ]
  },
  {
   "cell_type": "code",
   "execution_count": 21,
   "id": "caf0342f-876b-4a6f-aab2-0a55d8622456",
   "metadata": {},
   "outputs": [
    {
     "name": "stdin",
     "output_type": "stream",
     "text": [
      "enter your name ANkit\n"
     ]
    },
    {
     "name": "stdout",
     "output_type": "stream",
     "text": [
      "name is valid\n"
     ]
    },
    {
     "name": "stdin",
     "output_type": "stream",
     "text": [
      "enter your age 34\n"
     ]
    },
    {
     "name": "stdout",
     "output_type": "stream",
     "text": [
      "age is valid\n"
     ]
    }
   ],
   "source": [
    "# Q6. class of custom exception handling \n",
    "class validate_details(Exception):\n",
    "    \n",
    "    def __init__(self , msg) : \n",
    "        self.msg = msg\n",
    "        \n",
    "def validate_age(age) : \n",
    "    if age < 0 :\n",
    "        raise validate_details(\"entered age is negative \" )\n",
    "    elif age > 200 : \n",
    "        raise validate_details(\"enterd age is very high \" )\n",
    "    else :\n",
    "        print(\"age is valid\" )\n",
    "        \n",
    "def validate_name(name) : \n",
    "    if len(name) < 3 :\n",
    "        raise validate_details(\"invalid name due to underflow of letters\" )\n",
    "    elif len(name) > 20 : \n",
    "        raise validate_details(\"invalid name due to overflow of letters\" )\n",
    "    else :\n",
    "        print(\"name is valid\" )\n",
    "try :\n",
    "    name = input(\"enter your name\")\n",
    "    validate_name(name)\n",
    "    age = int(input(\"enter your age\" ))\n",
    "    validate_age(age)\n",
    "except validate_details as e :\n",
    "    print(e)"
   ]
  },
  {
   "cell_type": "code",
   "execution_count": null,
   "id": "eaf8c626-2fa6-4df4-8321-13a94d0dca92",
   "metadata": {},
   "outputs": [],
   "source": []
  }
 ],
 "metadata": {
  "kernelspec": {
   "display_name": "Python 3 (ipykernel)",
   "language": "python",
   "name": "python3"
  },
  "language_info": {
   "codemirror_mode": {
    "name": "ipython",
    "version": 3
   },
   "file_extension": ".py",
   "mimetype": "text/x-python",
   "name": "python",
   "nbconvert_exporter": "python",
   "pygments_lexer": "ipython3",
   "version": "3.10.8"
  }
 },
 "nbformat": 4,
 "nbformat_minor": 5
}

{
 "cells": [
  {
   "cell_type": "code",
   "execution_count": 1,
   "id": "b59c6fbc-b5bb-4d80-9cd4-886aaa6bd856",
   "metadata": {},
   "outputs": [],
   "source": [
    "# Q1. What is the Probability density function?\n",
    "\"\"\"\n",
    "The probability density function (PDF) is a mathematical function that describes the probability distribution of a continuous random variable.\"\"\" "
   ]
  },
  {
   "cell_type": "code",
   "execution_count": 2,
   "id": "7b2b5e02-fdde-4f6d-b173-3d83ffd92639",
   "metadata": {},
   "outputs": [],
   "source": [
    "# Q2. What are the types of Probability distribution?\n",
    "\"\"\" \n",
    "probability density function \n",
    "probability mass function \n",
    "cummulative density function \"\"\""
   ]
  },
  {
   "cell_type": "code",
   "execution_count": 3,
   "id": "2793c9f2-3e7a-460c-ba97-20e3e7d51407",
   "metadata": {},
   "outputs": [
    {
     "data": {
      "text/plain": [
       "1.4867195147342977e-06"
      ]
     },
     "execution_count": 3,
     "metadata": {},
     "output_type": "execute_result"
    }
   ],
   "source": [
    "# Q3. Write a Python function to calculate the probability density function of a normal distribution with\n",
    "# given mean and standard deviation at a given point.\n",
    "import math\n",
    "\n",
    "def normal_pdf(x, mean, std_dev):\n",
    "    coefficient = 1 / (std_dev * math.sqrt(2 * math.pi))\n",
    "    exponent = -((x - mean) ** 2) / (2 * std_dev ** 2)\n",
    "    pdf_value = coefficient * math.exp(exponent)\n",
    "    return pdf_value\n",
    "\n",
    "normal_pdf(5,0,1)"
   ]
  },
  {
   "cell_type": "code",
   "execution_count": null,
   "id": "f97886e1-f6bf-475d-a826-b3afee38e638",
   "metadata": {},
   "outputs": [],
   "source": [
    "# Q4. What are the properties of Binomial distribution? Give two examples of events where binomial\n",
    "# distribution can be applied.\n",
    "\"\"\"\n",
    "he properties of the binomial distribution are as follows:\n",
    "\n",
    "Fixed number of trials: The binomial distribution models a fixed number of independent and identical trials. \n",
    "Independent trials: The trials in a binomial distribution are assumed to be independent\n",
    "Constant probability of success: The probability of success (denoted by p) remains constant across all trials.\n",
    "Discrete outcomes: The binomial distribution deals with discrete outcomes.\n",
    "\n",
    "example :-  coin flipping , passing or failing in exam  \"\"\""
   ]
  },
  {
   "cell_type": "code",
   "execution_count": 57,
   "id": "16937918-da5c-4390-b67b-b2a415e9743b",
   "metadata": {},
   "outputs": [
    {
     "data": {
      "text/plain": [
       "(array([599., 401.]),\n",
       " array([0. , 0.5, 1. ]),\n",
       " <BarContainer object of 2 artists>)"
      ]
     },
     "execution_count": 57,
     "metadata": {},
     "output_type": "execute_result"
    },
    {
     "data": {
      "image/png": "[encoded data removed]",
      "text/plain": [
       "<Figure size 640x480 with 1 Axes>"
      ]
     },
     "metadata": {},
     "output_type": "display_data"
    }
   ],
   "source": [
    "# Q5. Generate a random sample of size 1000 from a binomial distribution with probability of success 0.4\n",
    "# and plot a histogram of the results using matplotlib.\n",
    "import numpy as np \n",
    "import matplotlib.pyplot as plt \n",
    "\n",
    "success = 0.4 \n",
    "size = 1000\n",
    "sample = np.random.binomial(1,success,size)\n",
    "\n",
    "plt.hist(sample,bins = 2)"
   ]
  },
  {
   "cell_type": "code",
   "execution_count": 58,
   "id": "466bd919-d266-4569-8c32-23c2fec3faa0",
   "metadata": {},
   "outputs": [
    {
     "name": "stdout",
     "output_type": "stream",
     "text": [
      "The CDF value at k = 2 is: 0.3208471988621341\n"
     ]
    }
   ],
   "source": [
    "# Q6. Write a Python function to calculate the cumulative distribution function of a Poisson distribution\n",
    "# with given mean at a given point.\n",
    "import math\n",
    "\n",
    "def poisson_cdf(k, mean):\n",
    "    cdf = 0.0\n",
    "    for i in range(k+1):\n",
    "        cdf += math.exp(-mean) * (mean ** i) / math.factorial(i)\n",
    "    return cdf\n",
    "\n",
    "mean = 3.5  \n",
    "k=2\n",
    "\n",
    "cdf_value = poisson_cdf(k, mean)\n",
    "print(f\"The CDF value at k = {k} is: {cdf_value}\")\n",
    "\n",
    "    "
   ]
  },
  {
   "cell_type": "code",
   "execution_count": 59,
   "id": "f566213e-d12b-4654-a946-dd94e71aa770",
   "metadata": {},
   "outputs": [
    {
     "data": {
      "text/plain": [
       "'  the Binomial distribution focuses on a fixed number of trials with constant probability, \\nwhile the Poisson distribution focuses on the occurrence of events in a fixed interval.'"
      ]
     },
     "execution_count": 59,
     "metadata": {},
     "output_type": "execute_result"
    }
   ],
   "source": [
    "# Q7. How Binomial distribution different from Poisson distribution?\n",
    "\n",
    "\"\"\"  the Binomial distribution focuses on a fixed number of trials with constant probability, \n",
    "while the Poisson distribution focuses on the occurrence of events in a fixed interval.\"\"\""
   ]
  },
  {
   "cell_type": "code",
   "execution_count": 71,
   "id": "35735fac-e29c-4c2d-93d2-f0e441e1ff1b",
   "metadata": {},
   "outputs": [
    {
     "name": "stdout",
     "output_type": "stream",
     "text": [
      "Sample Mean: 5.089\n",
      "Sample Variance: 5.059079\n"
     ]
    }
   ],
   "source": [
    "# Q8. Generate a random sample of size 1000 from a Poisson distribution with mean 5 and calculate the\n",
    "# sample mean and variance.\n",
    "import numpy as np\n",
    "\n",
    "size = 1000\n",
    "mean = 5\n",
    "sample = np.random.poisson(mean, size)\n",
    "\n",
    "sample_mean = np.mean(sample)\n",
    "sample_variance = np.var(sample)\n",
    "\n",
    "\n",
    "print(\"Sample Mean:\", sample_mean)\n",
    "print(\"Sample Variance:\", sample_variance)\n"
   ]
  },
  {
   "cell_type": "code",
   "execution_count": null,
   "id": "ec1c0d97-8eb1-48eb-9c10-0200477df856",
   "metadata": {},
   "outputs": [],
   "source": [
    "# Q9. How mean and variance are related in Binomial distribution and Poisson distribution?\n",
    "\"\"\" In both the Binomial distribution and Poisson distribution:\n",
    "\n",
    "Mean: The mean (expected value) of the distribution is equal to the product of the number of trials \n",
    "or the average rate of events \n",
    "(depending on the distribution) and the probability of success or the average rate of events respectively.\n",
    "\n",
    "Variance: The variance of the distribution is equal to the product of the number of trials or the average \n",
    "rate of events (depending on the distribution), the probability of failure (Binomial distribution) or the \n",
    "average rate of events (Poisson distribution), and 1 minus the probability of success or the average rate \n",
    "of events respectively.\"\"\""
   ]
  },
  {
   "cell_type": "code",
   "execution_count": null,
   "id": "48cbdd44-3917-4f83-87c7-5d65735970fc",
   "metadata": {},
   "outputs": [],
   "source": [
    "# Q10. In normal distribution with respect to mean position, where does the least frequent data appear?\n",
    "\"\"\" \n",
    "The normal distribution is a symmetric bell-shaped curve, and the mean is located at the center of \n",
    "the distribution. As you move away from the mean towards the tails of the distribution, \n",
    "the probability density decreases, indicating that data points in the tails are less likely to occur.\"\"\""
   ]
  },
  {
   "cell_type": "code",
   "execution_count": null,
   "id": "df77b0b7-dc26-481c-90b3-8986fea1e235",
   "metadata": {},
   "outputs": [],
   "source": []
  }
 ],
 "metadata": {
  "kernelspec": {
   "display_name": "Python 3 (ipykernel)",
   "language": "python",
   "name": "python3"
  },
  "language_info": {
   "codemirror_mode": {
    "name": "ipython",
    "version": 3
   },
   "file_extension": ".py",
   "mimetype": "text/x-python",
   "name": "python",
   "nbconvert_exporter": "python",
   "pygments_lexer": "ipython3",
   "version": "3.10.8"
  }
 },
 "nbformat": 4,
 "nbformat_minor": 5
}

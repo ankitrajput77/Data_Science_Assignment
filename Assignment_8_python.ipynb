{
 "cells": [
  {
   "cell_type": "code",
   "execution_count": 50,
   "id": "eb69ea7f-5832-4f25-b440-cddd95d1299f",
   "metadata": {},
   "outputs": [
    {
     "name": "stdout",
     "output_type": "stream",
     "text": [
      "82aa@A#R$k is : Valid Password\n",
      "aaa@#$re1s is : Invalid Password\n"
     ]
    }
   ],
   "source": [
    "# You are writing code for a company. The requirement of the company is that you create a python\n",
    "# function that will check whether the password entered by the user is correct or not. The function should\n",
    "# take the password as input and return the string “Valid Password” if the entered password follows the\n",
    "# below-given password guidelines else it should return “Invalid Password”.\n",
    "\n",
    "def password(string):\n",
    "    lowercase_count = 0 \n",
    "    uppercase_count = 0 \n",
    "    length = len(string)\n",
    "    spcl_char_count = 0\n",
    "    num_count = 0\n",
    "    for i in string:\n",
    "        if i.isdigit():\n",
    "            num_count+=1\n",
    "        elif i.isalpha():\n",
    "            if i.islower():\n",
    "                lowercase_count+=1\n",
    "            else:\n",
    "                uppercase_count+=1\n",
    "        else:\n",
    "            spcl_char_count+=1\n",
    "      \n",
    "    if lowercase_count >= 2 and uppercase_count >= 2 and length == 10 and spcl_char_count >= 3 and num_count >=1:\n",
    "        return \"Valid Password\"\n",
    "    else:\n",
    "        return \"Invalid Password\"\n",
    "\n",
    "print(\"82aa@A#R$k is :\" ,password(\"82aa@A#R$k\"))\n",
    "print(\"aaa@#$re1s is :\",password(\"aaa@#$re1s\"))"
   ]
  },
  {
   "cell_type": "code",
   "execution_count": 51,
   "id": "500a2878-ee32-4f56-bfd6-5ee7737fec56",
   "metadata": {},
   "outputs": [],
   "source": [
    "# Q2. Solve the below-given questions using at least one of the following:\n",
    "# 1. Lambda function\n",
    "# 2. Filter function\n",
    "# 3. Map function\n",
    "# 4. List Comprehension"
   ]
  },
  {
   "cell_type": "code",
   "execution_count": 56,
   "id": "43412e4b-cc5a-45f6-9632-caa3951c0558",
   "metadata": {},
   "outputs": [
    {
     "name": "stdin",
     "output_type": "stream",
     "text": [
      "enter the letter which you want to check : a\n",
      "enter the string : ankit\n"
     ]
    },
    {
     "data": {
      "text/plain": [
       "True"
      ]
     },
     "execution_count": 56,
     "metadata": {},
     "output_type": "execute_result"
    }
   ],
   "source": [
    "# Check if the string starts with a particular letter using lambda \n",
    "\n",
    "letter = input(\"enter the letter which you want to check :\")\n",
    "string = input(\"enter the string :\")\n",
    "\n",
    "result = lambda x, y : x[0] == y \n",
    "\n",
    "result(string, letter)"
   ]
  },
  {
   "cell_type": "code",
   "execution_count": 60,
   "id": "8afa381f-ac2a-4e9c-91bc-321284be9ee6",
   "metadata": {},
   "outputs": [
    {
     "name": "stdin",
     "output_type": "stream",
     "text": [
      "enter the string : 1234\n"
     ]
    },
    {
     "data": {
      "text/plain": [
       "True"
      ]
     },
     "execution_count": 60,
     "metadata": {},
     "output_type": "execute_result"
    }
   ],
   "source": [
    "# Check if the string is numeric\n",
    "\n",
    "string = input(\"enter the string :\")\n",
    "\n",
    "result = lambda x : x.isnumeric()\n",
    "\n",
    "result(string)"
   ]
  },
  {
   "cell_type": "code",
   "execution_count": 68,
   "id": "6a1222a2-9362-4bfc-8dc4-f653429be475",
   "metadata": {},
   "outputs": [
    {
     "name": "stdout",
     "output_type": "stream",
     "text": [
      "[('orange', 80), ('mango', 99), ('grapes', 1000)]\n"
     ]
    }
   ],
   "source": [
    "# Sort a list of tuples having fruit names and their quantity.\n",
    "\n",
    "lt = [(\"mango\",99),(\"orange\",80), (\"grapes\", 1000)]\n",
    "\n",
    "lt.sort(key = lambda x : x[1])\n",
    "\n",
    "print(lt)"
   ]
  },
  {
   "cell_type": "code",
   "execution_count": 70,
   "id": "8db13d9c-877c-4026-9f9b-a24cd5b53d60",
   "metadata": {},
   "outputs": [
    {
     "data": {
      "text/plain": [
       "[1, 4, 9, 16, 25, 36, 49, 64, 81, 100]"
      ]
     },
     "execution_count": 70,
     "metadata": {},
     "output_type": "execute_result"
    }
   ],
   "source": [
    "# Find the squares of numbers from 1 to 10\n",
    "\n",
    "list(map(lambda x : x**2 , range(11)[1:]))"
   ]
  },
  {
   "cell_type": "code",
   "execution_count": 71,
   "id": "2dbbb4d7-f698-41c5-9b28-a09754134565",
   "metadata": {},
   "outputs": [
    {
     "data": {
      "text/plain": [
       "[1, 8, 27, 64, 125, 216, 343, 512, 729, 1000]"
      ]
     },
     "execution_count": 71,
     "metadata": {},
     "output_type": "execute_result"
    }
   ],
   "source": [
    "# Find the cube root of numbers from 1 to 10\n",
    "\n",
    "list(map(lambda x : x**3 , range(11)[1:]))"
   ]
  },
  {
   "cell_type": "code",
   "execution_count": 78,
   "id": "28141479-1974-4e19-9ae6-15bfa21fd84e",
   "metadata": {},
   "outputs": [
    {
     "name": "stdin",
     "output_type": "stream",
     "text": [
      "enter the number : 1234\n"
     ]
    },
    {
     "name": "stdout",
     "output_type": "stream",
     "text": [
      "True\n"
     ]
    }
   ],
   "source": [
    "# Check if a given number is even\n",
    "\n",
    "is_even = lambda x : x % 2 == 0\n",
    "N = int(input(\"enter the number :\"))\n",
    "print(is_even(N))\n"
   ]
  },
  {
   "cell_type": "code",
   "execution_count": 95,
   "id": "4ea84b38-9b03-4e82-a903-30fea385f2cc",
   "metadata": {},
   "outputs": [
    {
     "data": {
      "text/plain": [
       "[1, 3, 5, 7, 9]"
      ]
     },
     "execution_count": 95,
     "metadata": {},
     "output_type": "execute_result"
    }
   ],
   "source": [
    "# Filter odd numbers from the given list. \n",
    "lt = [1,2,3,4,5,6,7,8,9,10]\n",
    "list(filter(lambda x : x % 2 != 0 , lt))"
   ]
  },
  {
   "cell_type": "code",
   "execution_count": 108,
   "id": "04555f81-6c1b-4623-94c1-af3af59b3495",
   "metadata": {},
   "outputs": [
    {
     "name": "stdout",
     "output_type": "stream",
     "text": [
      "[0, 1, 2, 3, 4, 5, 6]\n",
      "[-5, -4, -3, -2, -1]\n"
     ]
    }
   ],
   "source": [
    "# Sort a list of integers into positive and negative integers lists.\n",
    "LT = [1,2,3,4,5,6,-1,-2,-3,-4,-5,0]\n",
    "\n",
    "l1 = [x for x in LT if x >= 0 ]\n",
    "\n",
    "l1.sort()\n",
    "print(l1)\n",
    "\n",
    "l2 = [x for x in LT if x < 0 ]\n",
    "\n",
    "l2.sort()\n",
    "print(l2)\n"
   ]
  },
  {
   "cell_type": "code",
   "execution_count": null,
   "id": "7ae19635-7556-400e-ada4-3caaed83bfc5",
   "metadata": {},
   "outputs": [],
   "source": []
  }
 ],
 "metadata": {
  "kernelspec": {
   "display_name": "Python 3 (ipykernel)",
   "language": "python",
   "name": "python3"
  },
  "language_info": {
   "codemirror_mode": {
    "name": "ipython",
    "version": 3
   },
   "file_extension": ".py",
   "mimetype": "text/x-python",
   "name": "python",
   "nbconvert_exporter": "python",
   "pygments_lexer": "ipython3",
   "version": "3.10.8"
  }
 },
 "nbformat": 4,
 "nbformat_minor": 5
}

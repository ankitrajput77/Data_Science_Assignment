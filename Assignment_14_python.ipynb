{
 "cells": [
  {
   "cell_type": "code",
   "execution_count": null,
   "id": "5870f0ce-9422-46ab-810c-28298648c07d",
   "metadata": {},
   "outputs": [],
   "source": [
    "# Q1. what is multithreading in python? why is it used? Name the module used to handle threads in python\n",
    "\n",
    "\"\"\" Multithreading is process of executing multi threads in single core - CPU \n",
    "\n",
    "it is used, Multithreading allows many parts of a program to run simultaneously.\n",
    "\n",
    "threading module is use to handle threads in python \n",
    "\"\"\"\n",
    "\n"
   ]
  },
  {
   "cell_type": "code",
   "execution_count": null,
   "id": "45819aeb-95c4-4818-ba51-5ecf906abd92",
   "metadata": {},
   "outputs": [],
   "source": [
    "# Q2. why threading module used? write the use of the following functions\n",
    "\n",
    "# activeCount()\n",
    "\n",
    "\"\"\"\n",
    "The threading module exposes all the methods of the thread module and provides some additional methods −\n",
    "\n",
    "activeCount() − Returns the number of thread objects that are active.\n",
    "currentThread() − Returns the number of thread objects in the caller's thread control.\n",
    "enumerate() − Returns a list of all thread objects that are currently active.\n",
    "\n",
    "\"\"\""
   ]
  },
  {
   "cell_type": "code",
   "execution_count": null,
   "id": "24048e45-af95-4ae9-8ce3-adc3aaa2c700",
   "metadata": {},
   "outputs": [],
   "source": [
    "# Q3. Explain the following functions\n",
    "\n",
    "# run\n",
    "    \"\"\" The .run() method executes any target function belonging to a given thread object that is now active. \"\"\"\n",
    "# start\n",
    "    \"\"\" The start() method of thread class is used to begin the execution of thread. \"\"\"\n",
    "# join\n",
    "    \"\"\"The join() method of thread class waits for a thread to die. \n",
    "    It is used when you want one thread to wait for completion of another\"\"\"\n",
    "# isAlive\n",
    "\n",
    "\"\"\" The isAlive function − It is used to check if a thread is alive or not. where alive means it is in process\"\"\"\n"
   ]
  },
  {
   "cell_type": "code",
   "execution_count": 42,
   "id": "e656c494-7212-4bea-a8db-8c10dd158715",
   "metadata": {},
   "outputs": [
    {
     "name": "stdout",
     "output_type": "stream",
     "text": [
      "0\n",
      "1\n",
      "4\n",
      "9\n",
      "16\n",
      "25\n",
      "36\n",
      "49\n",
      "64\n",
      "81\n",
      "0\n",
      "1\n",
      "8\n",
      "27\n",
      "64\n",
      "125\n",
      "216\n",
      "343\n",
      "512\n",
      "729\n"
     ]
    }
   ],
   "source": [
    "# Q4. write a python program to create two threads. Thread one must print the list of squares and thread \n",
    "# two must print the list of cubes\n",
    "\n",
    "import threading \n",
    "\n",
    "def seq():\n",
    "    for i in range(10):\n",
    "        print(i*i)\n",
    "        \n",
    "def cub():\n",
    "    for i in range(10):\n",
    "        print(i**3)\n",
    "        \n",
    "\n",
    "thread1 = [threading.Thread(target = seq)]\n",
    "thread2 = [threading.Thread(target = cub)]\n",
    "thread1\n",
    "thread2\n",
    "\n",
    "for i in thread1 :\n",
    "    i.start()\n",
    "    \n",
    "for i in thread2 :\n",
    "    i.start()"
   ]
  },
  {
   "cell_type": "code",
   "execution_count": null,
   "id": "9d357cb8-5f70-4d28-a47f-97c5786d6125",
   "metadata": {},
   "outputs": [],
   "source": [
    "# Q5. State advantages and disadvantages of multithreading\n",
    "\n",
    "\"\"\"\n",
    "\n",
    "dis advantages :-\n",
    "\n",
    "difficulty of writting code \n",
    "difficulty of debugging code \n",
    "difficulty of testing code \n",
    "\n",
    "advantages :-\n",
    "\n",
    "Reduced number of required servers\n",
    "Simultaneous access to multiple applications\\\n",
    "\n",
    "\"\"\""
   ]
  },
  {
   "cell_type": "code",
   "execution_count": null,
   "id": "1a024f01-ff14-4bab-872c-9c47563d626d",
   "metadata": {},
   "outputs": [],
   "source": [
    "# Q6. Explain deadlocks and race conditions.\n",
    "\n",
    "\"\"\" A race condition occurs when two threads use the same variable at a given time. \n",
    "Deadlock exists when two threads seek one lock simultaneously.\n",
    "\"\"\""
   ]
  }
 ],
 "metadata": {
  "kernelspec": {
   "display_name": "Python 3 (ipykernel)",
   "language": "python",
   "name": "python3"
  },
  "language_info": {
   "codemirror_mode": {
    "name": "ipython",
    "version": 3
   },
   "file_extension": ".py",
   "mimetype": "text/x-python",
   "name": "python",
   "nbconvert_exporter": "python",
   "pygments_lexer": "ipython3",
   "version": "3.10.8"
  }
 },
 "nbformat": 4,
 "nbformat_minor": 5
}

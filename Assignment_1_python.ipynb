{
 "cells": [
  {
   "cell_type": "code",
   "execution_count": 6,
   "id": "8342da70-1f76-4234-8dbd-b311bf56d081",
   "metadata": {},
   "outputs": [
    {
     "data": {
      "text/plain": [
       "'Guido van Rossum'"
      ]
     },
     "execution_count": 6,
     "metadata": {},
     "output_type": "execute_result"
    }
   ],
   "source": [
    "## who developed python ? \n",
    "\"Guido van Rossum\""
   ]
  },
  {
   "cell_type": "code",
   "execution_count": 5,
   "id": "0958ff2c-631a-4301-a943-abadf2c56c69",
   "metadata": {},
   "outputs": [
    {
     "data": {
      "text/plain": [
       "'object-oriented programming language'"
      ]
     },
     "execution_count": 5,
     "metadata": {},
     "output_type": "execute_result"
    }
   ],
   "source": [
    "## which type of programming is supported by python ? \n",
    "\"object-oriented programming language\""
   ]
  },
  {
   "cell_type": "code",
   "execution_count": 7,
   "id": "47737482-0208-4bb2-ae23-ea09a558d7d9",
   "metadata": {},
   "outputs": [
    {
     "data": {
      "text/plain": [
       "'object-oriented programming language'"
      ]
     },
     "execution_count": 7,
     "metadata": {},
     "output_type": "execute_result"
    }
   ],
   "source": [
    "## is python case sensitive dealing with identifiers \n",
    "\"object-oriented programming language\""
   ]
  },
  {
   "cell_type": "code",
   "execution_count": 27,
   "id": "8c8cce83-a038-46a7-a20f-1030af38d0be",
   "metadata": {},
   "outputs": [
    {
     "data": {
      "text/plain": [
       "'.py'"
      ]
     },
     "execution_count": 27,
     "metadata": {},
     "output_type": "execute_result"
    }
   ],
   "source": [
    "## correct extension for python ? \n",
    "\".py\""
   ]
  },
  {
   "cell_type": "code",
   "execution_count": 10,
   "id": "5a0fc3ff-fbfb-4552-8855-6d24df3c868e",
   "metadata": {},
   "outputs": [
    {
     "data": {
      "text/plain": [
       "'interpreted'"
      ]
     },
     "execution_count": 10,
     "metadata": {},
     "output_type": "execute_result"
    }
   ],
   "source": [
    "## is python compiled or interpreted ? \n",
    "\"interpreted\""
   ]
  },
  {
   "cell_type": "code",
   "execution_count": 11,
   "id": "a66a502e-a9aa-4237-a2ef-253bb58fb13d",
   "metadata": {},
   "outputs": [
    {
     "data": {
      "text/plain": [
       "'a module, a function body, and a class definition'"
      ]
     },
     "execution_count": 11,
     "metadata": {},
     "output_type": "execute_result"
    }
   ],
   "source": [
    "## some blocks of code to define python ? \n",
    "\"a module, a function body, and a class definition\""
   ]
  },
  {
   "cell_type": "code",
   "execution_count": 12,
   "id": "7ed01c4f-162f-48ff-bd43-bc99431f944b",
   "metadata": {},
   "outputs": [
    {
     "data": {
      "text/plain": [
       "'##'"
      ]
     },
     "execution_count": 12,
     "metadata": {},
     "output_type": "execute_result"
    }
   ],
   "source": [
    "## state a character used to give single line comment \n",
    "\"##\""
   ]
  },
  {
   "cell_type": "code",
   "execution_count": 24,
   "id": "05dc89ad-c64e-4cf5-8767-a6bc394c9bd3",
   "metadata": {},
   "outputs": [
    {
     "data": {
      "text/plain": [
       "'import sys\\nsys.version'"
      ]
     },
     "execution_count": 24,
     "metadata": {},
     "output_type": "execute_result"
    }
   ],
   "source": [
    "## function use to know the version of python that we are currently using \n",
    "\"\"\"import sys\n",
    "sys.version\"\"\""
   ]
  },
  {
   "cell_type": "code",
   "execution_count": 17,
   "id": "ad567bdf-5673-49c3-9faf-8ef1518ea13f",
   "metadata": {},
   "outputs": [
    {
     "data": {
      "text/plain": [
       "'lambda'"
      ]
     },
     "execution_count": 17,
     "metadata": {},
     "output_type": "execute_result"
    }
   ],
   "source": [
    "## python supports the creation of anonymous functions at runtime using constructor named as \n",
    "\"lambda\""
   ]
  },
  {
   "cell_type": "code",
   "execution_count": 18,
   "id": "b5dd04e9-d16b-41bd-89f0-ad81a96c18e6",
   "metadata": {},
   "outputs": [
    {
     "data": {
      "text/plain": [
       "'Pip Installs Packages'"
      ]
     },
     "execution_count": 18,
     "metadata": {},
     "output_type": "execute_result"
    }
   ],
   "source": [
    "## PIP stands for \n",
    "\"Pip Installs Packages\""
   ]
  },
  {
   "cell_type": "code",
   "execution_count": 23,
   "id": "2e9a7a4f-7bc1-4f6a-afad-1335a7c98527",
   "metadata": {},
   "outputs": [
    {
     "data": {
      "text/plain": [
       "'range()\\nlen()\\nsort()\\nreverse()'"
      ]
     },
     "execution_count": 23,
     "metadata": {},
     "output_type": "execute_result"
    }
   ],
   "source": [
    "## built in functions in python \n",
    "\"\"\"range()\n",
    "len()\n",
    "sort()\n",
    "reverse()\"\"\""
   ]
  },
  {
   "cell_type": "code",
   "execution_count": 20,
   "id": "f223a21e-785c-4c2b-a6c2-086b09e57439",
   "metadata": {},
   "outputs": [
    {
     "data": {
      "text/plain": [
       "'79 char'"
      ]
     },
     "execution_count": 20,
     "metadata": {},
     "output_type": "execute_result"
    }
   ],
   "source": [
    "## maximum length of identifier in python is\n",
    "\"79 char\""
   ]
  },
  {
   "cell_type": "code",
   "execution_count": 21,
   "id": "42a3a54d-dd82-47f2-9b93-0b8744e67ebe",
   "metadata": {},
   "outputs": [
    {
     "data": {
      "text/plain": [
       "'data manipulation'"
      ]
     },
     "execution_count": 21,
     "metadata": {},
     "output_type": "execute_result"
    }
   ],
   "source": [
    "## benefit of python \n",
    "\"data manipulation\""
   ]
  },
  {
   "cell_type": "code",
   "execution_count": 22,
   "id": "dec9bad0-bc69-49f3-849d-9fbbc9d01061",
   "metadata": {},
   "outputs": [
    {
     "data": {
      "text/plain": [
       "'Memory in Python is managed by Python private heap space'"
      ]
     },
     "execution_count": 22,
     "metadata": {},
     "output_type": "execute_result"
    }
   ],
   "source": [
    "## how mamory is managed in python \n",
    "\"Memory in Python is managed by Python private heap space\""
   ]
  },
  {
   "cell_type": "code",
   "execution_count": 25,
   "id": "b86d45e5-e8a5-41a9-9706-68e6d160c854",
   "metadata": {},
   "outputs": [
    {
     "data": {
      "text/plain": [
       "'first go to official website of python then download python from there and install it \\nset path :\\n1 Right click on My Computer and click on properties.\\n2 Click on Advanced System settings\\n3 Click on Environment Variable tab.\\n4 Click on new tab of user variables.\\n5 Write path in variable name\\n6 Copy the path of Python folder\\n7 Paste path of Python in variable value.\\n8 click Ok twice'"
      ]
     },
     "execution_count": 25,
     "metadata": {},
     "output_type": "execute_result"
    }
   ],
   "source": [
    "## how to install python in windows and set path variables \n",
    "\"\"\"first go to official website of python then download python from there and install it \n",
    "set path :\n",
    "1 Right click on My Computer and click on properties.\n",
    "2 Click on Advanced System settings\n",
    "3 Click on Environment Variable tab.\n",
    "4 Click on new tab of user variables.\n",
    "5 Write path in variable name\n",
    "6 Copy the path of Python folder\n",
    "7 Paste path of Python in variable value.\n",
    "8 click Ok twice\"\"\""
   ]
  },
  {
   "cell_type": "code",
   "execution_count": 26,
   "id": "34594150-bb82-4df9-b7e3-dd95cefbc9fe",
   "metadata": {},
   "outputs": [
    {
     "data": {
      "text/plain": [
       "'Yes , without identation we cannot run a single code in python'"
      ]
     },
     "execution_count": 26,
     "metadata": {},
     "output_type": "execute_result"
    }
   ],
   "source": [
    "## Is identation is required in python \n",
    "\"Yes , without identation we cannot run a single code in python\""
   ]
  },
  {
   "cell_type": "code",
   "execution_count": null,
   "id": "766d78f5-5ff6-4a72-8cca-4f6ddc6d0444",
   "metadata": {},
   "outputs": [],
   "source": []
  }
 ],
 "metadata": {
  "kernelspec": {
   "display_name": "Python 3 (ipykernel)",
   "language": "python",
   "name": "python3"
  },
  "language_info": {
   "codemirror_mode": {
    "name": "ipython",
    "version": 3
   },
   "file_extension": ".py",
   "mimetype": "text/x-python",
   "name": "python",
   "nbconvert_exporter": "python",
   "pygments_lexer": "ipython3",
   "version": "3.10.8"
  }
 },
 "nbformat": 4,
 "nbformat_minor": 5
}

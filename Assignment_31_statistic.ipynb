{
 "cells": [
  {
   "cell_type": "code",
   "execution_count": null,
   "id": "5eee70f0-0416-45cc-84bb-191c6a0ba896",
   "metadata": {},
   "outputs": [],
   "source": [
    "# Q1: What are the Probability Mass Function (PMF) and Probability Density Function (PDF)? Explain with\n",
    "# an example.\n",
    "\"\"\"\n",
    "probability mass function is function that is use to define the probability of discrete distribution \n",
    "whereas probability density function is use to define the probability of continuous distribution\n",
    "\n",
    "example of PMF :- Rolling a dice is discrete distribution \n",
    "and pmf = 1/6 when x in (1,2,3,4,5,6) and 0 otherwise \n",
    "\n",
    "example of pdf :- uniform distribution \n",
    "\n",
    "pdf = 1/(b-a) when a<x<b 0 otherwise \"\"\"\n"
   ]
  },
  {
   "cell_type": "code",
   "execution_count": null,
   "id": "8937e70b-bcf5-4161-a677-cedc9742af0f",
   "metadata": {},
   "outputs": [],
   "source": [
    "# Q2: What is Cumulative Density Function (CDF)? Explain with an example. Why CDF is used?\n",
    "\n",
    "\"\"\" commulative density function is function that is use to find the commulative probability of any distribution\"\"\""
   ]
  },
  {
   "cell_type": "code",
   "execution_count": null,
   "id": "c357da7f-4f2c-47bf-913e-2cb7869cc4a2",
   "metadata": {},
   "outputs": [],
   "source": [
    "# Q3: What are some examples of situations where the normal distribution might be used as a model?\n",
    "# Explain how the parameters of the normal distribution relate to the shape of the distribution.\n",
    "\"\"\"\n",
    "\n",
    "The normal distribution is used as a model in situations where data tends to cluster around a central \n",
    "value and show symmetrical behavior. \n",
    "The parameters of the normal distribution define its shape. \n",
    "The mean (μ) represents the central value or the peak of the distribution, \n",
    "while the standard deviation (σ) controls the spread or dispersion of the data points around the mean. \n",
    "A larger standard deviation results in a wider and more spread-out distribution,\n",
    "while a smaller standard deviation leads to a narrower and more concentrated distribution.\"\"\""
   ]
  },
  {
   "cell_type": "code",
   "execution_count": null,
   "id": "5575d20b-366b-472a-b890-0de870c5b06c",
   "metadata": {},
   "outputs": [],
   "source": [
    "# Q4: Explain the importance of Normal Distribution. Give a few real-life examples of Normal Distribution.\n",
    "\"\"\"\n",
    "\n",
    "The normal distribution is important due to its mathematical properties, such as the Central Limit Theorem, \n",
    "making it a fundamental tool in statistical analysis, modeling, and inference in various fields. \n",
    "It also approximates many real-life phenomena, allowing for meaningful predictions and understanding of data.\n",
    "\n",
    "Real-life examples of phenomena that can be approximated by a normal distribution include:\n",
    "\n",
    "Heights and weights of a large population\n",
    "IQ scores in a population\n",
    "Errors in scientific measurements \"\"\""
   ]
  },
  {
   "cell_type": "code",
   "execution_count": null,
   "id": "881f88c9-4727-49f7-999e-33c9bad119fc",
   "metadata": {},
   "outputs": [],
   "source": [
    "# Q5: What is Bernaulli Distribution? Give an Example. What is the difference between Bernoulli\n",
    "# Distribution and Binomial Distribution?\n",
    "\"\"\" \n",
    "bernaulli distribution : - The Bernoulli distribution is a discrete probability distribution, \n",
    "which can take only two possible values with probabilities of success (p) and failure (1-p).\n",
    "\n",
    "An example of the Bernoulli distribution is flipping a fair coinh a probability of 0.5.\n",
    "\n",
    "difference between binomial and bernaulli is that in bernaulli there is only\n",
    "one trial but in binomial distribution trial is repeated multiple times .\"\"\" "
   ]
  },
  {
   "cell_type": "code",
   "execution_count": null,
   "id": "20b876ff-23b3-47f8-bdb0-6bae2f1a5058",
   "metadata": {},
   "outputs": [],
   "source": [
    "# Q6. Consider a dataset with a mean of 50 and a standard deviation of 10. If we assume that the dataset\n",
    "# is normally distributed, what is the probability that a randomly selected observation will be greater\n",
    "# than 60? Use the appropriate formula and show your calculations.\n",
    "\"\"\"\n",
    "probability of randomly selected observation will be greater than 60 \n",
    "P(x>60) = P(Z > (60-50)/10) = P(Z > 1)  = 1 - p(Z < 1) = 0.8413 = 84.13% \"\"\""
   ]
  },
  {
   "cell_type": "code",
   "execution_count": null,
   "id": "4ae323c2-7317-4825-86b9-a8e99cec052f",
   "metadata": {},
   "outputs": [],
   "source": [
    "# Q7: Explain uniform Distribution with an example.\n",
    "\"\"\" The uniform distribution is a continuous probability distribution where all outcomes in a given range are equally likely. \n",
    "In other words, it assumes a constant probability density function over a specified interval.\n",
    "An example of the uniform distribution is rolling a fair six-sided die. In this case, \n",
    "each face of the die has an equal probability of 1/6 of being rolled\"\"\""
   ]
  },
  {
   "cell_type": "code",
   "execution_count": 1,
   "id": "5b3195ad-409e-4ec2-9c20-0e286c59ed84",
   "metadata": {},
   "outputs": [],
   "source": [
    "# Q8: What is the z score? State the importance of the z score.\n",
    "\"\"\" \n",
    "Z score is defined as (x - mu )/sigma , it is nothing but how much \n",
    "standard devistion x in dataset is away from the mean \n",
    "\n",
    "The z-score is important as it standardizes values from different distributions,\n",
    "allowing for meaningful comparisons and determining the relative position of a data point within a distribution.\"\"\""
   ]
  },
  {
   "cell_type": "code",
   "execution_count": null,
   "id": "3a484cf9-3817-4593-8197-52b38653eedd",
   "metadata": {},
   "outputs": [],
   "source": [
    "# Q9: What is Central Limit Theorem? State the significance of the Central Limit Theorem.\n",
    "\"\"\" \n",
    "The Central Limit Theorem (CLT) states that the sum or average of a large number of independent and identically \n",
    "distributed random variables tends to follow a normal distribution, regardless of the shape of the original \n",
    "distribution.\n",
    "It is significant because it allows us to make statistical inferences and \n",
    "draw conclusions about population parameters based on sample means or sums. \"\"\""
   ]
  },
  {
   "cell_type": "code",
   "execution_count": null,
   "id": "d144a06d-aca3-4e71-aa99-1fa0f0b974f3",
   "metadata": {},
   "outputs": [],
   "source": [
    "# Q10: State the assumptions of the Central Limit Theorem.\n",
    "\"\"\"\n",
    "Independent and Identically Distributed (IID) Samples\n",
    "Sample Size is more than 30 \n",
    "finite variance \"\"\""
   ]
  }
 ],
 "metadata": {
  "kernelspec": {
   "display_name": "Python 3 (ipykernel)",
   "language": "python",
   "name": "python3"
  },
  "language_info": {
   "codemirror_mode": {
    "name": "ipython",
    "version": 3
   },
   "file_extension": ".py",
   "mimetype": "text/x-python",
   "name": "python",
   "nbconvert_exporter": "python",
   "pygments_lexer": "ipython3",
   "version": "3.10.8"
  }
 },
 "nbformat": 4,
 "nbformat_minor": 5
}

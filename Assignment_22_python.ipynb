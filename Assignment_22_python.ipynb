{
 "cells": [
  {
   "cell_type": "code",
   "execution_count": 3,
   "id": "e6fd0c1b-5121-4a0e-bf11-5fda90cbb7b7",
   "metadata": {},
   "outputs": [
    {
     "name": "stdout",
     "output_type": "stream",
     "text": [
      "0     4\n",
      "1     8\n",
      "2    15\n",
      "3    16\n",
      "4    23\n",
      "5    42\n",
      "dtype: int64\n"
     ]
    }
   ],
   "source": [
    "# Q1. Create a Pandas Series that contains the following data: 4, 8, 15, 16, 23, and 42. Then, print the series\n",
    "import pandas as pd\n",
    "data = [4, 8, 15, 16, 23, 42]\n",
    "series = pd.Series(data)\n",
    "print(series)"
   ]
  },
  {
   "cell_type": "code",
   "execution_count": 4,
   "id": "b91505be-3604-4095-a41d-dac42400b293",
   "metadata": {},
   "outputs": [
    {
     "name": "stdout",
     "output_type": "stream",
     "text": [
      "0     10\n",
      "1     20\n",
      "2     30\n",
      "3     40\n",
      "4     50\n",
      "5     60\n",
      "6     70\n",
      "7     80\n",
      "8     90\n",
      "9    100\n",
      "dtype: int64\n"
     ]
    }
   ],
   "source": [
    "# Q2. Create a variable of list type containing 10 elements in it, and apply pandas.Series function on the\n",
    "# variable print it.\n",
    "import pandas as pd\n",
    "\n",
    "my_list = [10, 20, 30, 40, 50, 60, 70, 80, 90, 100]\n",
    "series = pd.Series(my_list)\n",
    "print(series)\n"
   ]
  },
  {
   "cell_type": "code",
   "execution_count": 11,
   "id": "ab416a0b-1284-4ae8-90bc-222a80365a26",
   "metadata": {},
   "outputs": [
    {
     "name": "stdout",
     "output_type": "stream",
     "text": [
      "      name  age  gender\n",
      "0    Alice   25  Female\n",
      "1      Bob   30    Male\n",
      "2  Charlie   35    Male\n"
     ]
    }
   ],
   "source": [
    "# Q3. Create a Pandas DataFrame that contains the following data:\n",
    "import pandas as pd\n",
    "\n",
    "data = {'name': ['Alice', 'Bob', 'Charlie'],\n",
    "        'age': [25, 30, 35],\n",
    "        'gender': ['Female', 'Male', 'Male']}\n",
    "\n",
    "df = pd.DataFrame(data)\n",
    "print(df)\n"
   ]
  },
  {
   "cell_type": "code",
   "execution_count": null,
   "id": "953caa14-6532-486a-911d-bfe7dd8b8134",
   "metadata": {},
   "outputs": [],
   "source": [
    "# Q4. What is ‘DataFrame’ in pandas and how is it different from pandas.series? Explain with an example.\n",
    "\"\"\" \n",
    "In Pandas, a DataFrame is a two-dimensional labeled data structure that represents a tabular, \n",
    "spreadsheet-like data object. \n",
    "It consists of rows and columns, where each column can have a different data type \n",
    "\n",
    "A Pandas Series, on the other hand, is a one-dimensional labeled array that can hold data of any type. \n",
    "It is similar to a column in a DataFrame, but it lacks the tabular structure. \n",
    "\n",
    "Question 3 is example of DataFrame and Question 2 is example of series \"\"\""
   ]
  },
  {
   "cell_type": "code",
   "execution_count": null,
   "id": "c4dc02df-71c0-4320-858c-1883637d3596",
   "metadata": {},
   "outputs": [],
   "source": [
    "# Q5. What are some common functions you can use to manipulate data in a Pandas DataFrame? Can\n",
    "# you give an example of when you might use one of these functions?\n",
    "\n",
    "# head() and tail()\n",
    "import pandas as pd\n",
    "\n",
    "df = pd.read_csv('data.csv')  # Assuming 'data.csv' is the file containing the DataFrame\n",
    "print(df.head())  # Prints the first 5 rows\n",
    "print(df.tail())  # Prints the last 5 rows\n",
    "\n",
    "print(\"\\n \\n\")\n",
    "\n",
    "# shape \n",
    "df = pd.read_csv('data.csv')\n",
    "print(df.shape)  # Prints the dimensions of the DataFrame (rows, columns)\n",
    "\n",
    "\n",
    "# describe \n",
    "df = pd.read_csv('data.csv')\n",
    "print(df.describe())  # Generates descriptive statistics of the DataFrame\n"
   ]
  },
  {
   "cell_type": "code",
   "execution_count": null,
   "id": "99fa03d6-1218-4025-9e0c-4005d9211d42",
   "metadata": {},
   "outputs": [],
   "source": [
    "# Q6. Which of the following is mutable in nature Series, DataFrame, Panel?\n",
    "\"\"\"\n",
    "In the context of pandas, a popular data manipulation library in Python, both Series and DataFrame objects are mutable, \n",
    "meaning they can be modified after they are created. On the other hand, the Panel object, which represents three-dimensional data, \n",
    "is considered deprecated as of pandas version 0.25.0 and has been removed in later versions. \n",
    "Instead, pandas encourages the use of the MultiIndex DataFrame for handling data with more than two dimensions. \"\"\"\n"
   ]
  },
  {
   "cell_type": "code",
   "execution_count": 13,
   "id": "94be8a36-a119-4c8a-a4c3-0d8f19c3b359",
   "metadata": {},
   "outputs": [
    {
     "name": "stdout",
     "output_type": "stream",
     "text": [
      "   Column1 Column2  Column3\n",
      "0       10       A     True\n",
      "1       20       B    False\n",
      "2       30       C     True\n",
      "3       40       D    False\n",
      "4       50       E     True\n"
     ]
    }
   ],
   "source": [
    "# Q7. Create a DataFrame using multiple Series. Explain with an example.\n",
    "import pandas as pd\n",
    "import pandas as pd\n",
    "\n",
    "# Create a Series for each column\n",
    "column1 = pd.Series([10, 20, 30, 40, 50])\n",
    "column2 = pd.Series(['A', 'B', 'C', 'D', 'E'])\n",
    "column3 = pd.Series([True, False, True, False, True])\n",
    "\n",
    "# Create a dictionary with the column names as keys and the Series as values\n",
    "data = {'Column1': column1, 'Column2': column2, 'Column3': column3}\n",
    "\n",
    "# Create the DataFrame\n",
    "df = pd.DataFrame(data)\n",
    "\n",
    "# Print the DataFrame\n",
    "print(df)\n",
    "\n",
    "\n"
   ]
  },
  {
   "cell_type": "code",
   "execution_count": null,
   "id": "b964b9c4-c17a-4591-bc9d-6ba3205b97d9",
   "metadata": {},
   "outputs": [],
   "source": []
  }
 ],
 "metadata": {
  "kernelspec": {
   "display_name": "Python 3 (ipykernel)",
   "language": "python",
   "name": "python3"
  },
  "language_info": {
   "codemirror_mode": {
    "name": "ipython",
    "version": 3
   },
   "file_extension": ".py",
   "mimetype": "text/x-python",
   "name": "python",
   "nbconvert_exporter": "python",
   "pygments_lexer": "ipython3",
   "version": "3.10.8"
  }
 },
 "nbformat": 4,
 "nbformat_minor": 5
}

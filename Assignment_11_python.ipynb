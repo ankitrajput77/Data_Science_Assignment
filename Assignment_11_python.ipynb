{
 "cells": [
  {
   "cell_type": "code",
   "execution_count": null,
   "id": "41685077-e81a-45b9-8ea8-e478b1548323",
   "metadata": {},
   "outputs": [],
   "source": [
    "# Q1. Which function is used to open a file? What are the different modes of opening a file? Explain each mode\n",
    "# of file opening.\n",
    "\"\"\" we use open() function to open a file \"\"\"\n",
    "# modes of opening a file \n",
    "\"\"\"\n",
    "r -\tOpen a file for reading. (default)\n",
    "w -\tOpen a file for writing. Creates a new file if it does not exist or truncates the file if it exists.\n",
    "x -\tOpen a file for exclusive creation. If the file already exists, the operation fails.\n",
    "a -\tOpen a file for appending at the end of the file without truncating it. Creates a new file if it does not exist.\n",
    "t -\tOpen in text mode. (default)\n",
    "b -\tOpen in binary mode.\n",
    "+ -\tOpen a file for updating (reading and writing)\n",
    "\"\"\""
   ]
  },
  {
   "cell_type": "code",
   "execution_count": null,
   "id": "654eb8da-d730-4438-81cd-6c1359480e11",
   "metadata": {},
   "outputs": [],
   "source": [
    "# Q2. Why close() function is used? Why is it important to close a file?\n",
    "\n",
    "\"\"\" we use close() function to close our opened working file , it is important to close file as in writting \n",
    "into file we if dont close it we are not going to have the text into our file \"\"\"\n"
   ]
  },
  {
   "cell_type": "code",
   "execution_count": 50,
   "id": "4ffe45f6-dea3-4dfb-9acc-c83aeba75f5d",
   "metadata": {},
   "outputs": [
    {
     "data": {
      "text/plain": [
       "'I want to become a Data Scientist'"
      ]
     },
     "execution_count": 50,
     "metadata": {},
     "output_type": "execute_result"
    }
   ],
   "source": [
    "# Q3. Write a python program to create a text file. Write ‘I want to become a Data Scientist’ in that file. Then\n",
    "# close the file. Open this file and read the content of the file.\n",
    "\n",
    "file = open(\"test.txt\",\"w\")\n",
    "\n",
    "file.write(\"I want to become a Data Scientist\")\n",
    "\n",
    "file.close()\n",
    "\n",
    "file = open(\"test.txt\",\"r\")\n",
    "\n",
    "file.readline()"
   ]
  },
  {
   "cell_type": "code",
   "execution_count": 51,
   "id": "6a9a58bb-3fe0-47f6-bdd5-e8d112622ff6",
   "metadata": {},
   "outputs": [
    {
     "data": {
      "text/plain": [
       "'\\n\\nread() : read function is use to read data from file and give data in txt\\n\\nreadline() : readline function is use to read data from file line by line and give data in txt\\n\\nreadlines() : readlines function is use to read data from file where lines are stored in list \\n\\n'"
      ]
     },
     "execution_count": 51,
     "metadata": {},
     "output_type": "execute_result"
    }
   ],
   "source": [
    "# Q4. Explain the following with python code: read(), readline() and readlines().\n",
    "\n",
    "\"\"\"\n",
    "\n",
    "read() : read function is use to read data from file and give data in txt\n",
    "\n",
    "readline() : readline function is use to read data from file line by line and give data in txt\n",
    "\n",
    "readlines() : readlines function is use to read data from file where lines are stored in list \n",
    "\n",
    "\"\"\""
   ]
  },
  {
   "cell_type": "code",
   "execution_count": null,
   "id": "9bf7e4ad-a2c7-400a-85c1-f83bc1e4727d",
   "metadata": {},
   "outputs": [],
   "source": [
    "# Q5. Explain why with statement is used with open(). What is the advantage of using with statement and\n",
    "# open() together?\n",
    "\"\"\"\n",
    "The with statement works with the open() function to open a file. \n",
    "Unlike open() where you have to close the file with the close() method, \n",
    "the with statement closes the file for you without you telling it to\n",
    "\"\"\""
   ]
  },
  {
   "cell_type": "code",
   "execution_count": 69,
   "id": "aa153a40-9bf0-4497-a47a-5161f66257ed",
   "metadata": {},
   "outputs": [
    {
     "data": {
      "text/plain": [
       "'write function is used list1 data list2 data'"
      ]
     },
     "execution_count": 69,
     "metadata": {},
     "output_type": "execute_result"
    }
   ],
   "source": [
    "# Q6. Explain the write() and writelines() functions. Give a suitable example.\n",
    "\"\"\"\n",
    "\n",
    "write() : use to write data in file in form of txt and bin \n",
    "\n",
    "writelines() : use to write data in files which also take list as argument \n",
    "\n",
    "\"\"\"\n",
    "\n",
    "fp = open(\"demo.txt\",\"w\")\n",
    "\n",
    "fp.write(\"\"\"write function is used\"\"\")\n",
    "\n",
    "fp.writelines([\" list1 data\",\" list2 data\"])\n",
    "\n",
    "fp.close()\n",
    "fp = open(\"demo.txt\",\"r\")\n",
    "\n",
    "fp.read()"
   ]
  },
  {
   "cell_type": "code",
   "execution_count": null,
   "id": "496b7104-084b-43fb-8beb-04bc98849c38",
   "metadata": {},
   "outputs": [],
   "source": []
  }
 ],
 "metadata": {
  "kernelspec": {
   "display_name": "Python 3 (ipykernel)",
   "language": "python",
   "name": "python3"
  },
  "language_info": {
   "codemirror_mode": {
    "name": "ipython",
    "version": 3
   },
   "file_extension": ".py",
   "mimetype": "text/x-python",
   "name": "python",
   "nbconvert_exporter": "python",
   "pygments_lexer": "ipython3",
   "version": "3.10.8"
  }
 },
 "nbformat": 4,
 "nbformat_minor": 5
}

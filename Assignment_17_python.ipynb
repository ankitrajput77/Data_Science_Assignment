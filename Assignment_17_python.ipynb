{
 "cells": [
  {
   "cell_type": "code",
   "execution_count": null,
   "id": "c5e21ab8-43a3-436a-b16e-145d296ed9c7",
   "metadata": {},
   "outputs": [],
   "source": [
    "# Q1. What is an API? Give an example, where an API is used in real life.\n",
    "\"\"\"\n",
    "An API is a set of rules that allows different software applications to communicate with each other. \n",
    "It defines how requests and responses should be structured and processed. \n",
    "An example of API usage in real life is a weather application on your smartphone using \n",
    "a weather service provider's API to retrieve and display weather data. \"\"\""
   ]
  },
  {
   "cell_type": "code",
   "execution_count": null,
   "id": "b3faf5b9-fd2b-47e6-a7f7-697baf39fc6e",
   "metadata": {},
   "outputs": [],
   "source": [
    "# Q2. Give advantages and disadvantages of using API.\n",
    "\"\"\" \n",
    "\n",
    "Advantages of using API:\n",
    "Reusability\n",
    "Scalability\n",
    "Flexibility\n",
    "\n",
    "Disadvantages of using API:\n",
    "Dependency on external services\n",
    "Security risks\n",
    "Versioning and compatibility\n",
    "\"\"\""
   ]
  },
  {
   "cell_type": "code",
   "execution_count": null,
   "id": "815b44a2-bf1c-4631-827a-14565384fbe3",
   "metadata": {},
   "outputs": [],
   "source": [
    "# Q3. What is a Web API? Differentiate between API and Web API.\n",
    "\"\"\" \n",
    "An API is a general term that encompasses any set of rules and protocols that enable \n",
    "software applications to communicate. A Web API, specifically, \n",
    "refers to an API that is exposed over the web and uses HTTP as the communication protocol.\"\"\""
   ]
  },
  {
   "cell_type": "code",
   "execution_count": null,
   "id": "6b5a48c0-d204-42ac-b434-e7079d8b08ce",
   "metadata": {},
   "outputs": [],
   "source": [
    "# Q4. Explain REST and SOAP Architecture. Mention shortcomings of SOAP.\n",
    "\"\"\"\n",
    "REST (Representational State Transfer) is an architectural style for designing networked applications. \n",
    "It emphasizes simplicity, scalability, and loose coupling. \n",
    "RESTful APIs use standard HTTP methods and rely on URLs to identify resources. \n",
    "Data exchange is typically in lightweight formats like JSON or XM.\n",
    "\n",
    "SOAP (Simple Object Access Protocol) is a protocol for exchanging structured information between \n",
    "networked applications. It is a more complex and heavyweight protocol compared to REST. \n",
    "SOAP messages are XML-based and can be sent over different protocols. SOAP provides more \n",
    "advanced features like security and reliability, but it is considered more cumbersome and \n",
    "less flexible than REST.\"\"\""
   ]
  },
  {
   "cell_type": "code",
   "execution_count": null,
   "id": "1af4d744-7928-4d88-b7eb-1f12b3d644ca",
   "metadata": {},
   "outputs": [],
   "source": [
    "# Q5. Differentiate between REST and SOAP.\n",
    "\"\"\"REST is a lightweight architectural style that emphasizes simplicity, scalability, \n",
    "and loose coupling. It uses standard HTTP methods and lightweight data formats like JSON \n",
    "for communication. SOAP, on the other hand, is a more complex and heavyweight protocol that uses \n",
    "XML-based messages and can be sent over different protocols. REST offers greater flexibility and \n",
    "better performance, while SOAP provides advanced features and is often used in enterprise-level applications.\"\"\""
   ]
  },
  {
   "cell_type": "code",
   "execution_count": null,
   "id": "0b7e6da3-dc4b-4df3-892b-f88034afddf3",
   "metadata": {},
   "outputs": [],
   "source": []
  }
 ],
 "metadata": {
  "kernelspec": {
   "display_name": "Python 3 (ipykernel)",
   "language": "python",
   "name": "python3"
  },
  "language_info": {
   "codemirror_mode": {
    "name": "ipython",
    "version": 3
   },
   "file_extension": ".py",
   "mimetype": "text/x-python",
   "name": "python",
   "nbconvert_exporter": "python",
   "pygments_lexer": "ipython3",
   "version": "3.10.8"
  }
 },
 "nbformat": 4,
 "nbformat_minor": 5
}

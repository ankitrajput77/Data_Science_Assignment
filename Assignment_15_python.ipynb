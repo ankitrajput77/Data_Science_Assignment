{
 "cells": [
  {
   "cell_type": "code",
   "execution_count": null,
   "id": "82d7f264-a5eb-460f-b3f2-073a6c882229",
   "metadata": {},
   "outputs": [],
   "source": [
    "# Q1. What is a database? Differentiate between SQL and NoSQL databases.\n",
    "\n",
    "\"\"\"\n",
    "A database is a structured collection of data organized and stored for easy access, management, and retrieval.\n",
    "SQL databases use SQL (Structured Query Language) for querying and managing data,\n",
    "while NoSQL databases use various query languages or APIs, \n",
    "often based on key-value, document, columnar, or graph data models. \"\"\"\n"
   ]
  },
  {
   "cell_type": "code",
   "execution_count": null,
   "id": "1a6857fc-8e7e-4838-b62d-ebeafde86c3c",
   "metadata": {},
   "outputs": [],
   "source": [
    "# Q2. What is DDL? Explain why CREATE, DROP, ALTER, and TRUNCATE are used with an example.\n",
    "\"\"\"\n",
    "DDL stands for Data Definition Language. It is a subset of SQL (Structured Query Language) that deals with defining and managing the structure of a database.\n",
    "\n",
    "CREATE: The CREATE statement is used to create new database objects such as tables, views, indexes, or constraints. For example, \"CREATE TABLE\" is used to create a new table in a database.\n",
    "DROP: The DROP statement is used to remove existing database objects such as tables, views, or indexes. It permanently deletes the object and its associated data from the database. For example, \"DROP TABLE\" is used to delete a table from a database.\n",
    "ALTER: The ALTER statement is used to modify the structure of an existing database object. It can be used to add, modify, or drop columns, constraints, or indexes in a table. For example, \"ALTER TABLE\" is used to add a new column to an existing table.\n",
    "TRUNCATE: The TRUNCATE statement is used to remove all the data from a table while keeping its structure intact. It is faster than the DELETE statement as it removes the data directly without logging individual deletions. For example, \"TRUNCATE TABLE\" is used to delete all the rows from a table.\"\"\""
   ]
  },
  {
   "cell_type": "code",
   "execution_count": 1,
   "id": "07679a98-44d2-457d-b0b2-7da16a2b7431",
   "metadata": {},
   "outputs": [],
   "source": [
    "# Q3. What is DML? Explain INSERT, UPDATE, and DELETE with an example.\n",
    "\"\"\" \n",
    "DML stands for Data Manipulation Language. It is a subset of SQL (Structured Query Language) \n",
    "that deals with modifying and manipulating the data within a database. \n",
    "\n",
    "INSERT: The INSERT statement is used to add new rows of data into a table. \n",
    "It specifies the table name and the values to be inserted into the respective columns.\n",
    "\n",
    "#example\n",
    "INSERT INTO Customers (Name, Age, Email) VALUES ('John Doe', 25, 'johndoe@example.com');\n",
    "\n",
    "UPDATE: The UPDATE statement is used to modify existing data in a table. \n",
    "It allows you to update specific columns or rows based on specified conditions. \n",
    "\n",
    "#example \n",
    "UPDATE Customers SET Age = 26 WHERE Name = 'John Doe';\n",
    "\n",
    "DELETE: The DELETE statement is used to remove rows of data from a table based on specified conditions. \n",
    "It permanently deletes the data from the table.\n",
    "\n",
    "#example \n",
    "DELETE FROM Customers WHERE Age > 30;\n",
    "\"\"\""
   ]
  },
  {
   "cell_type": "code",
   "execution_count": null,
   "id": "1ff59095-57e1-4f55-a213-8d5eea2c35f4",
   "metadata": {},
   "outputs": [],
   "source": [
    "# Q4. What is DQL? Explain SELECT with an example.\n",
    "\"\"\"\n",
    "DQL stands for Data Query Language. \n",
    "It is a subset of SQL (Structured Query Language) that deals with querying and retrieving data from a database.\n",
    "\n",
    "SELECT is the primary command used in DQL to retrieve data from one or more tables in a database. \n",
    "It allows you to specify the columns you want to retrieve and \n",
    "apply various conditions and filters to narrow down the result set.\n",
    "\n",
    "SELECT Name FROM Employees WHERE Department = 'Sales';\n",
    "\n",
    "\"\"\""
   ]
  },
  {
   "cell_type": "code",
   "execution_count": null,
   "id": "239a6d77-07da-4b4c-a627-f381f6e0b0e3",
   "metadata": {},
   "outputs": [],
   "source": [
    "# Q5. Explain Primary Key and Foreign Key.\n",
    "\n",
    "\"\"\"\n",
    "Primary Key: A primary key is a unique identifier for a record in a database table that ensures each row has a distinct identity.\n",
    "Foreign Key: A foreign key is a field in a database table that make a link to \n",
    "the primary key of another table\"\"\""
   ]
  },
  {
   "cell_type": "code",
   "execution_count": null,
   "id": "0610f89c-fcf3-42f7-afa1-5f1a2172941b",
   "metadata": {},
   "outputs": [],
   "source": [
    "# Q6. Write a python code to connect MySQL to python. Explain the cursor() and execute() method.\n",
    "import mysql.connector\n",
    "\n",
    "# Establishing a connection to the MySQL database\n",
    "connection = mysql.connector.connect(\n",
    "    host=\"localhost\",\n",
    "    user=\"your_username\",\n",
    "    password=\"your_password\",\n",
    "    database=\"your_database\"\n",
    ")\n",
    "\n",
    "# Creating a cursor object\n",
    "cursor = connection.cursor()\n",
    "\n",
    "# Executing a SQL query using the execute() method\n",
    "cursor.execute(\"SELECT * FROM your_table\")\n",
    "\n",
    "# Fetching the result of the query\n",
    "result = cursor.fetchall()\n",
    "\n",
    "# Printing the result\n",
    "for row in result:\n",
    "    print(row)\n",
    "\n",
    "# Closing the cursor and the database connection\n",
    "cursor.close()\n",
    "connection.close()\n"
   ]
  },
  {
   "cell_type": "code",
   "execution_count": null,
   "id": "74634a4a-9079-41f1-90ad-141bbb2b5e2d",
   "metadata": {},
   "outputs": [],
   "source": [
    "# Q7. Give the order of execution of SQL clauses in an SQL query.\n",
    "\n",
    "\"\"\"\n",
    "The order of execution of SQL clauses in an SQL query is as follows:\n",
    "\n",
    "FROM: Specifies the table or tables from which to retrieve data.\n",
    "WHERE: Filters the rows based on specified conditions.\n",
    "GROUP BY: Groups the rows based on specified columns.\n",
    "HAVING: Filters the groups based on specified conditions.\n",
    "SELECT: Specifies the columns to retrieve from the table.\n",
    "DISTINCT: Removes duplicate rows from the result set.\n",
    "ORDER BY: Sorts the result set based on specified columns.\n",
    "LIMIT/OFFSET: Specifies the number of rows to retrieve and the starting position.\n",
    "UNION/INTERSECT/EXCEPT: Combines multiple result sets or performs set operations.\n",
    "INSERT/UPDATE/DELETE: Modifies data in the table(s).\n",
    "COMMIT/ROLLBACK: Saves or discards the changes made to the data.\n",
    "CREATE/ALTER/DROP: Creates, modifies, or deletes database objects (tables, views, indexes, etc.).\n",
    "GRANT/REVOKE: Manages user privileges and access control. \"\"\""
   ]
  }
 ],
 "metadata": {
  "kernelspec": {
   "display_name": "Python 3 (ipykernel)",
   "language": "python",
   "name": "python3"
  },
  "language_info": {
   "codemirror_mode": {
    "name": "ipython",
    "version": 3
   },
   "file_extension": ".py",
   "mimetype": "text/x-python",
   "name": "python",
   "nbconvert_exporter": "python",
   "pygments_lexer": "ipython3",
   "version": "3.10.8"
  }
 },
 "nbformat": 4,
 "nbformat_minor": 5
}

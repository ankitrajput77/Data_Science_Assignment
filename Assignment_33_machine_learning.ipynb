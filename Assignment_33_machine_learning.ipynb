{
 "cells": [
  {
   "cell_type": "code",
   "execution_count": null,
   "id": "aa9bc654-ead0-4315-8dc5-59ac20aee863",
   "metadata": {},
   "outputs": [],
   "source": [
    "# Q1- Explain thK following with an example\n",
    "# 1) Artificial Intelligence\n",
    "# 2) Machine learning,\n",
    "# 3) Deep Learning\n",
    "\"\"\"\n",
    "Artificial Intelligence :- smart application that can perform its own tasks without any human intervention \n",
    "example - chat bot \n",
    "Machine Learning :- it is a subset of AI that provides stats tool to analyze, visualize, predict, forcasting etc.\n",
    "example :-  predicting housing prices based on certain features of a house.\n",
    "Deep Learning :- Subset of Machine learning, use to mimic the human brain\n",
    "example :-  image classification using deep learning \"\"\"\n"
   ]
  },
  {
   "cell_type": "code",
   "execution_count": 1,
   "id": "9ec3cd6b-197f-44f9-b02a-da70e9f70320",
   "metadata": {},
   "outputs": [],
   "source": [
    "# Q2- What is supervised learning*? List some example of supervised learning.\n",
    "\"\"\"\n",
    "Supervised Learning :- Supervised Learning is a learning in which model takes labeled data set to predict the future.\n",
    "example :- \n",
    "email spam detection, sentiment analysis, image classification, and predicting housing prices\"\"\"\n"
   ]
  },
  {
   "cell_type": "code",
   "execution_count": null,
   "id": "bbbb91db-a440-40b8-bdb0-d442b2d78329",
   "metadata": {},
   "outputs": [],
   "source": [
    "# Q3- What is unsupervised learning? List some examples of unsupervised learning.\n",
    "\"\"\"\n",
    "Unsupervised learning :- Unsupervised machine learning is a branch of artificial intelligence that deals with analyzing and finding patterns in unlabeled data. \n",
    "Unlike supervised learning, unsupervised learning doesn't rely on labeled examples with predefined outcomes. \n",
    "Instead, it aims to uncover the underlying structure or relationships within the data.\n",
    "example :- \n",
    "Let's consider a dataset containing customer transaction data for a retail store. \n",
    "The goal is to discover patterns and segments within the data without any predefined labels or targets.\"\"\""
   ]
  },
  {
   "cell_type": "code",
   "execution_count": null,
   "id": "faced49f-8a09-413f-9eeb-437055725b31",
   "metadata": {},
   "outputs": [],
   "source": [
    "# differnece between AI ML DL DS\n",
    "\"\"\"\n",
    "answer of question Q1 is perfect for this \n",
    "and for data science :- data science is nothing but the study of all about AI, ML and DL\"\"\""
   ]
  },
  {
   "cell_type": "code",
   "execution_count": null,
   "id": "e9db4a4b-d802-48f9-9b9a-4a138219e489",
   "metadata": {},
   "outputs": [],
   "source": [
    "# main difference between unsupervised and suoervised and semi supervised \n",
    "\"\"\"Supervised Learning: The model learns from labeled examples, where input data is paired with corresponding target labels, \n",
    "and aims to generalize patterns to make predictions on unseen data.\n",
    "\n",
    "Unsupervised Learning: The model learns from unlabeled data, identifying patterns, \n",
    "relationships, and structures within the data without any predefined labels or targets.\n",
    "\n",
    "Semi-Supervised Learning: A combination of both supervised and unsupervised learning, \n",
    "where the model uses a small amount of labeled data along with a larger amount of unlabeled data to improve its performance.\"\"\""
   ]
  },
  {
   "cell_type": "code",
   "execution_count": null,
   "id": "a9d556de-36f4-49c9-bb02-5eac86a1c5ab",
   "metadata": {},
   "outputs": [],
   "source": [
    "# Q6- What is train, test and validation split? explain the importance of each term.\n",
    "\"\"\"\n",
    "Train data set :- train data set is data set which is use to train the model \n",
    "test data set :- is data set which is use to test whether the model is correct or not \n",
    "validation dataset :- dataset which is use to check the improvement of the result .\n",
    "\"\"\""
   ]
  },
  {
   "cell_type": "code",
   "execution_count": null,
   "id": "e1321e4e-45ea-4a7d-b634-305c71c4e0ea",
   "metadata": {},
   "outputs": [],
   "source": [
    "# Q7- how can unsupervised learning be used in anomoly detection .\n",
    "\"\"\"\n",
    "Anomaly detection identifies unusual or rare data points that differ significantly from the majority of the data. \n",
    "Techniques such as outlier detection and density-based methods are used for anomaly detection.\"\"\""
   ]
  },
  {
   "cell_type": "code",
   "execution_count": null,
   "id": "643ea0cd-34bc-46e7-a202-5616380b95c2",
   "metadata": {},
   "outputs": [],
   "source": [
    "# Q8- List down some commonly used supervised learning algorithm and unsupervised learning algorithms.\n",
    "\"\"\"\n",
    "Supervised Learning Algorithms:-\n",
    "Linear Regression\n",
    "Logistic Regression\n",
    "Decision Trees\n",
    "Random Forests\n",
    "\n",
    "Unsupervised Learning Algorithms:-\n",
    "K-Means Clustering\n",
    "Hierarchical Clustering\n",
    "Principal Component Analysis (PCA) \"\"\""
   ]
  }
 ],
 "metadata": {
  "kernelspec": {
   "display_name": "Python 3 (ipykernel)",
   "language": "python",
   "name": "python3"
  },
  "language_info": {
   "codemirror_mode": {
    "name": "ipython",
    "version": 3
   },
   "file_extension": ".py",
   "mimetype": "text/x-python",
   "name": "python",
   "nbconvert_exporter": "python",
   "pygments_lexer": "ipython3",
   "version": "3.10.8"
  }
 },
 "nbformat": 4,
 "nbformat_minor": 5
}

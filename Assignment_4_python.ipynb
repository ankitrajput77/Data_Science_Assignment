{
 "cells": [
  {
   "cell_type": "code",
   "execution_count": 2,
   "id": "0fb97c51-14a5-42b5-bda4-98d18d6f1aa8",
   "metadata": {},
   "outputs": [
    {
     "data": {
      "text/plain": [
       "[1, 3, 5, 7, 9, 11, 13, 15, 17, 19, 21, 23, 25]"
      ]
     },
     "execution_count": 2,
     "metadata": {},
     "output_type": "execute_result"
    }
   ],
   "source": [
    "## which keyword is used for defining function , create a function which returns all odd in range of 1 to 25 \n",
    "def odd_return() :\n",
    "    \"\"\" returns odd numbers from 1 to 25 \"\"\"\n",
    "    l =  [i for i in range(1,26) if i % 2 != 0]\n",
    "    return l\n",
    "odd_return()"
   ]
  },
  {
   "cell_type": "code",
   "execution_count": 6,
   "id": "b4cf6287-9167-4007-8a97-58cd8baa4301",
   "metadata": {},
   "outputs": [
    {
     "name": "stdout",
     "output_type": "stream",
     "text": [
      "22\n",
      "name == Ankit\n",
      "roll_no == 222123012\n",
      "year == 2023\n",
      "None\n"
     ]
    }
   ],
   "source": [
    "## why *args and **kwargs are used in some function, give some programm to show their demo\n",
    "\"\"\" we use both *agrs and *kawargs as argument in function when we have to give input to function dynamically\n",
    "in case of passing variables dynamically we use *args \n",
    "but for dict passing we use **kwargs \"\"\"\n",
    "\n",
    "# example for *agrs \n",
    "\n",
    "def demo(*args) :\n",
    "    \"\"\"returing the summ of all integers in *args\"\"\"\n",
    "    summ = 0\n",
    "    for i in args :\n",
    "        if type(i) == int or type(i) == float :\n",
    "            summ = summ + i \n",
    "        elif type(i) == list or type(i) == tuple or type(i) == set : \n",
    "            for j in i :\n",
    "                if type(j) == int or type(j) == float :\n",
    "                    summ = summ + j \n",
    "    return summ \n",
    "\n",
    "# example for **kwargs \n",
    "\n",
    "def demo2(**kwargs):\n",
    "    for key, value in kwargs.items():\n",
    "        print(key,\"==\",value)\n",
    "\n",
    "print(demo(1,2,3,4,'angk',[1,2,4,5,'dfg']))\n",
    "print(demo2(name='Ankit', roll_no=222123012, year=2023))"
   ]
  },
  {
   "cell_type": "code",
   "execution_count": 7,
   "id": "03074d9b-459a-4375-a9b8-5a8685cd1d95",
   "metadata": {},
   "outputs": [
    {
     "name": "stdout",
     "output_type": "stream",
     "text": [
      "2\n",
      "4\n",
      "6\n",
      "8\n",
      "10\n"
     ]
    }
   ],
   "source": [
    "# what is iterator in python ? \n",
    "# Name the method used to initialise the iterator object and the method used for iteration.\n",
    "# Use these methods to print the first five elements of the given list.\n",
    "\"\"\" iterator in python is an object that use to iterate through the collection of data\"\"\"\n",
    "\"\"\" method to initialise the iterator is 'iter()' and method used for iteration is 'next()' \"\"\"\n",
    "\n",
    "lst = [ 2, 4, 6, 8, 10, 12, 14, 16, 18, 20 ]\n",
    "\n",
    "def printt(l) :\n",
    "    \"\"\" to print element from l \"\"\"\n",
    "    for i in range(10) :\n",
    "        yield l[i]\n",
    "        \n",
    "final = printt(lst)\n",
    "\n",
    "for i in range(5) :\n",
    "    print(next(final))\n"
   ]
  },
  {
   "cell_type": "code",
   "execution_count": 8,
   "id": "00a1a7e5-5984-4be8-8fe8-8d9f1c781706",
   "metadata": {},
   "outputs": [
    {
     "name": "stdout",
     "output_type": "stream",
     "text": [
      "1 2 3 4 5 6 7 8 9 10 11 12 13 14 15 16 17 18 19 20 21 22 23 24 25 26 27 28 29 30 31 32 33 34 35 36 37 38 39 40 41 42 43 44 45 46 47 48 49 50 51 52 53 54 55 56 57 58 59 60 61 62 63 64 65 66 67 68 69 70 71 72 73 74 75 76 77 78 79 80 81 82 83 84 85 86 87 88 89 90 91 92 93 94 95 96 97 98 99 100 "
     ]
    }
   ],
   "source": [
    "# what is generator function in python ? , what is yield keyword nd give example of generator function \n",
    "\n",
    "\"\"\" Generator functions use the yield keyword. Generators main benefit is that they automatically create the functions __iter__() and next (). \"\"\"\n",
    "\"\"\" yield keyword is used to create a generator function. A type of function that is memory efficient and can be used like an iterator object. \"\"\"\n",
    "\n",
    "# example of generator function \n",
    "\n",
    "def gen() :\n",
    "    for i in range(100) :\n",
    "        yield i + 1\n",
    "    \n",
    "cnd = gen()\n",
    "\n",
    "for i in range(100) :\n",
    "        print(next(cnd) , end = \" \")\n",
    "    "
   ]
  },
  {
   "cell_type": "code",
   "execution_count": 9,
   "id": "8a199f28-3dbd-4654-b102-4c867dc45f67",
   "metadata": {},
   "outputs": [
    {
     "name": "stdout",
     "output_type": "stream",
     "text": [
      "2 3 5 7 11 13 17 19 23 29 31 37 41 43 47 53 59 61 67 71 \n",
      "first 20 prime numbers using next function has been printed\n"
     ]
    }
   ],
   "source": [
    "# generator function of primes under 1000 and use next to print first 20 or them \n",
    "\n",
    "def prime() :\n",
    "    for i in range(2,1001) :\n",
    "        j = 2\n",
    "        while j < i :\n",
    "            if i % j == 0 :\n",
    "                break \n",
    "            j+=1\n",
    "        else :\n",
    "            yield i\n",
    "\n",
    "cnd = prime() \n",
    "for i in range(20) : \n",
    "    print(next(cnd) , end = \" \")\n",
    "print(\"\\nfirst 20 prime numbers using next function has been printed\")"
   ]
  },
  {
   "cell_type": "code",
   "execution_count": 10,
   "id": "e3be468a-af30-4561-ad12-a0c6be582461",
   "metadata": {},
   "outputs": [
    {
     "name": "stdout",
     "output_type": "stream",
     "text": [
      "0 1 1 2 3 5 8 13 21 34 "
     ]
    }
   ],
   "source": [
    "# programm to prime 10 fibonacci number using while loop \n",
    " \n",
    "def fibo() :\n",
    "    a,b = 0,1\n",
    "    for i in range(10) :\n",
    "        yield a \n",
    "        a,b = b, a+b\n",
    "cnd = fibo()\n",
    "\n",
    "for i in range(10) :\n",
    "    print(next(cnd) , end = \" \")"
   ]
  },
  {
   "cell_type": "code",
   "execution_count": 11,
   "id": "e43260a2-36d8-42d0-9fa1-2187eb758419",
   "metadata": {},
   "outputs": [
    {
     "data": {
      "text/plain": [
       "['p', 'w', 's', 'k', 'i', 'l', 'l', 's']"
      ]
     },
     "execution_count": 11,
     "metadata": {},
     "output_type": "execute_result"
    }
   ],
   "source": [
    "# Q7. Write a List Comprehension to iterate through the given string: ‘pwskills’.\n",
    "# Expected output: ['p', 'w', 's', 'k', 'i', 'l', 'l', 's']\n",
    "\n",
    "[i for i in \"pwskills\"]"
   ]
  },
  {
   "cell_type": "code",
   "execution_count": 19,
   "id": "e1bf09f2-a789-4f3e-bf59-b881488db864",
   "metadata": {},
   "outputs": [
    {
     "name": "stdin",
     "output_type": "stream",
     "text": [
      "enter the number:  1234567899876543211\n"
     ]
    },
    {
     "name": "stdout",
     "output_type": "stream",
     "text": [
      "it is not palindrome\n"
     ]
    }
   ],
   "source": [
    "# Q8. Write a python program to check whether a given number is Palindrome or not using a while loop.\n",
    "\n",
    "def palin(n) :\n",
    "    n = str(n) \n",
    "    k = 1 \n",
    "    length = len(n)\n",
    "    i,j = 0,length-1\n",
    "    while i < j :\n",
    "        if n[i] != n[j] :\n",
    "            break\n",
    "        i+=1\n",
    "        j-=1\n",
    "    else :\n",
    "        k = 0 \n",
    "        print(\"it is palindrome\")\n",
    "    if k == 1 :\n",
    "        print(\"it is not palindrome\")\n",
    "        \n",
    "inputt = int(input(\"enter the number: \"))\n",
    "palin(inputt)"
   ]
  },
  {
   "cell_type": "code",
   "execution_count": 27,
   "id": "eb31d22c-845b-44d6-b778-c6a980decd5c",
   "metadata": {},
   "outputs": [
    {
     "data": {
      "text/plain": [
       "[1,\n",
       " 3,\n",
       " 5,\n",
       " 7,\n",
       " 9,\n",
       " 11,\n",
       " 13,\n",
       " 15,\n",
       " 17,\n",
       " 19,\n",
       " 21,\n",
       " 23,\n",
       " 25,\n",
       " 27,\n",
       " 29,\n",
       " 31,\n",
       " 33,\n",
       " 35,\n",
       " 37,\n",
       " 39,\n",
       " 41,\n",
       " 43,\n",
       " 45,\n",
       " 47,\n",
       " 49,\n",
       " 51,\n",
       " 53,\n",
       " 55,\n",
       " 57,\n",
       " 59,\n",
       " 61,\n",
       " 63,\n",
       " 65,\n",
       " 67,\n",
       " 69,\n",
       " 71,\n",
       " 73,\n",
       " 75,\n",
       " 77,\n",
       " 79,\n",
       " 81,\n",
       " 83,\n",
       " 85,\n",
       " 87,\n",
       " 89,\n",
       " 91,\n",
       " 93,\n",
       " 95,\n",
       " 97,\n",
       " 99]"
      ]
     },
     "execution_count": 27,
     "metadata": {},
     "output_type": "execute_result"
    }
   ],
   "source": [
    "# Q9. Write a code to print odd numbers from 1 to 100 using list comprehension.\n",
    "\n",
    "[i for i in range(101) if i % 2 != 0]"
   ]
  },
  {
   "cell_type": "code",
   "execution_count": null,
   "id": "6f2e68c6-8cc4-4ba8-ade8-db8f9c416e50",
   "metadata": {},
   "outputs": [],
   "source": []
  }
 ],
 "metadata": {
  "kernelspec": {
   "display_name": "Python 3 (ipykernel)",
   "language": "python",
   "name": "python3"
  },
  "language_info": {
   "codemirror_mode": {
    "name": "ipython",
    "version": 3
   },
   "file_extension": ".py",
   "mimetype": "text/x-python",
   "name": "python",
   "nbconvert_exporter": "python",
   "pygments_lexer": "ipython3",
   "version": "3.10.8"
  }
 },
 "nbformat": 4,
 "nbformat_minor": 5
}

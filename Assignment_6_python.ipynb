{
 "cells": [
  {
   "cell_type": "code",
   "execution_count": 5,
   "id": "7a39aa95-5c5e-4aeb-9ebe-ed9e88be1c81",
   "metadata": {},
   "outputs": [],
   "source": [
    "# Q1. Explain Class and Object with respect to Object-Oriented Programming. Give a suitable example.\n",
    "\n",
    "\"\"\" Class : Class is a blueprint which defines some properties and behaviors. \n",
    "            An object is an instance of a class which has those properties and behaviours. \"\"\"\n",
    "\n",
    "# example \n",
    "\n",
    "\n",
    "\"\"\" it is the class named game \"\"\"\n",
    "\n",
    "class game :\n",
    "    def __init__(self, lvl, health, power, color ) :\n",
    "        self.level = lvl \n",
    "        self.health = health \n",
    "        self.power = power \n",
    "        self.color = color\n",
    "    \n",
    "    def k_o(self) :\n",
    "        if self.health >= 10 :\n",
    "            self.health = self.health - 10 \n",
    "        else : \n",
    "            self.health = 0\n",
    "            print(\"you are dead \")\n",
    "           \n",
    "    def promo(self) :\n",
    "        if self.level < 5 :\n",
    "            self.level+=1\n",
    "        else :\n",
    "            print(\"you are at max lvl\")\n",
    "    \n",
    "    def change_color(self,color) :\n",
    "        self.color = color \n",
    "    \n",
    "    def power() :\n",
    "        return self.power"
   ]
  },
  {
   "cell_type": "code",
   "execution_count": 3,
   "id": "d3f06a57-9e41-4b0d-94bf-50502af1b5c0",
   "metadata": {},
   "outputs": [
    {
     "data": {
      "text/plain": [
       "' The Four Pillars of Object Oriented Programming\\nAbstraction.\\nEncapsulation.\\nInheritance.\\nPolymorphism. '"
      ]
     },
     "execution_count": 3,
     "metadata": {},
     "output_type": "execute_result"
    }
   ],
   "source": [
    "# Q2. Name the four pillars of OOPs.\n",
    "\n",
    "\"\"\" The Four Pillars of Object Oriented Programming\n",
    "Abstraction.\n",
    "Encapsulation.\n",
    "Inheritance.\n",
    "Polymorphism. \"\"\""
   ]
  },
  {
   "cell_type": "code",
   "execution_count": 4,
   "id": "b1548742-287c-47e7-9153-04f1c9cf7689",
   "metadata": {},
   "outputs": [],
   "source": [
    "# Q3. Explain why the __init__() function is used. Give a suitable example.\n",
    "\n",
    "\"\"\" __init__ is an inbuilt function which is used as a constructor for any class,\n",
    "suppose we have to make a class object with some given data than we use this __init__ function \"\"\"\n",
    "\n",
    "# example \n",
    "\n",
    "class demo : \n",
    "    def __init__ (self,a,b,c) :\n",
    "        self.name = a \n",
    "        self.surname = b\n",
    "        self.age = c\n",
    "        \n",
    "        "
   ]
  },
  {
   "cell_type": "code",
   "execution_count": 7,
   "id": "719dbcdb-340b-4272-adce-180bb59d36fe",
   "metadata": {},
   "outputs": [
    {
     "data": {
      "text/plain": [
       "' This handy keyword allows you to access variables, attributes, and methods of a defined class in Python. '"
      ]
     },
     "execution_count": 7,
     "metadata": {},
     "output_type": "execute_result"
    }
   ],
   "source": [
    "# Q4. Why self is used in OOPs?\n",
    "\n",
    "\"\"\" This handy keyword allows you to access variables, attributes, and methods of a defined class in Python. \"\"\""
   ]
  },
  {
   "cell_type": "code",
   "execution_count": 16,
   "id": "8e94ea95-5759-4b59-a1f4-93c3d7f558c4",
   "metadata": {},
   "outputs": [],
   "source": [
    "# Q5. What is inheritance? Give an example for each type of inheritance.\n",
    "\n",
    "\"\"\" Inheritance is the method of inheriting the properties of the main class to the child classes \n",
    "\n",
    "types of inheritance :\n",
    "                    Single Inheritance\n",
    "                    Multi Inheritance\n",
    "                    Multilevel Inheritance\n",
    "                    Hierarchical Inheritance\n",
    "                    Hybrid Inheritance\n",
    "\"\"\"\n",
    "\n",
    "# example for each \n",
    "\n",
    "# Single Inheritance\n",
    "\n",
    "class Parent :\n",
    "    def func1(self) : \n",
    "        print(\"parent class.\")\n",
    " \n",
    "class Child(Parent) :\n",
    "    def func2(self) :\n",
    "        print(\"child class.\")\n",
    "        \n",
    "# multi Inheritance \n",
    "\n",
    "class one :\n",
    "    def first(self) :\n",
    "        print(\"first\")\n",
    "class two :\n",
    "    def second(self) :\n",
    "        print(\"second\")\n",
    "class three(one,two) :\n",
    "    def third(self) :\n",
    "        print(\"third\")\n",
    "\n",
    "# multilevel Inheritance \n",
    "\n",
    "class onee :\n",
    "    def first(self) :\n",
    "        print(\"first\")\n",
    "class twoo(onee) :\n",
    "    def second(self) :\n",
    "        print(\"second\")\n",
    "class threee(twoo) :\n",
    "    def third(self) :\n",
    "        print(\"third\")\n",
    "\n",
    "# Hierarchical Inheritance\n",
    "\n",
    "class oneee :\n",
    "    def first(self) :\n",
    "        print(\"first\")\n",
    "class twooo(onee) :\n",
    "    def second(self) :\n",
    "        print(\"second\")\n",
    "class threeee(oneee) :\n",
    "    def third(self) :\n",
    "        print(\"third\")\n",
    "        \n",
    "# Hybrid Inheritence \n",
    "\n",
    "class oneee :\n",
    "    def first(self) :\n",
    "        print(\"first\")\n",
    "class twooo(onee) :\n",
    "    def second(self) :\n",
    "        print(\"second\")\n",
    "class threeee(twooo, oneee) :\n",
    "    def third(self) :\n",
    "        print(\"third\")\n"
   ]
  },
  {
   "cell_type": "code",
   "execution_count": null,
   "id": "b2a194e8-667b-4dec-8c7a-3531b9450c5b",
   "metadata": {},
   "outputs": [],
   "source": []
  }
 ],
 "metadata": {
  "kernelspec": {
   "display_name": "Python 3 (ipykernel)",
   "language": "python",
   "name": "python3"
  },
  "language_info": {
   "codemirror_mode": {
    "name": "ipython",
    "version": 3
   },
   "file_extension": ".py",
   "mimetype": "text/x-python",
   "name": "python",
   "nbconvert_exporter": "python",
   "pygments_lexer": "ipython3",
   "version": "3.10.8"
  }
 },
 "nbformat": 4,
 "nbformat_minor": 5
}

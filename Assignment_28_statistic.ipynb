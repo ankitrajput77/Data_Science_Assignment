{
 "cells": [
  {
   "cell_type": "code",
   "execution_count": 1,
   "id": "d73f3906-7c44-4f6b-a306-9a2c3d531171",
   "metadata": {},
   "outputs": [],
   "source": [
    "# Q1. What is Statistics?\n",
    "\"\"\" Statistic is the science of collecting, organizing and analyzing of data \"\"\""
   ]
  },
  {
   "cell_type": "code",
   "execution_count": null,
   "id": "96dda229-45ae-43a2-9f53-ed0535852ce7",
   "metadata": {},
   "outputs": [],
   "source": [
    "# Q2. Define the different types of statistics and give an example of when each type might be used.\n",
    "\"\"\"\n",
    "Descriptive Statistic :- organizing and summarizing data \n",
    "e.g - Measure of central tendency , mean mode median \n",
    "Inferential Statistic :- using the data that we have measured to form the conclusion \n",
    "e.g - z-test , p-test \"\"\""
   ]
  },
  {
   "cell_type": "code",
   "execution_count": null,
   "id": "bc2d504c-e603-4966-8f65-a0c9c99ee717",
   "metadata": {},
   "outputs": [],
   "source": [
    "# Q3. What are the different types of data and how do they differ from each other? Provide an example of\n",
    "# each type of data.\n",
    "\"\"\" \n",
    "types:-\n",
    "Qualitative :- numerical data \n",
    "e.g - heights , number of bank accounts \n",
    "Quantitative :- categorical variable \n",
    "e.g - gender , blood group"
   ]
  },
  {
   "cell_type": "code",
   "execution_count": null,
   "id": "d15efdbf-2c4a-4756-b1ee-26fdf5a61c3f",
   "metadata": {},
   "outputs": [],
   "source": [
    "# Q4. Categorise the following datasets with respect to quantitative and qualitative data types:\n",
    "# (i) Grading in exam: A+, A, B+, B, C+, C, D, E\n",
    "\"\"\" qualitative , ordinal \"\"\"\n",
    "# (ii) Colour of mangoes: yellow, green, orange, red\n",
    "\"\"\" qualitative , nominal \"\"\"\n",
    "# (iii) Height data of a class: [178.9, 179, 179.5, 176, 177.2, 178.3, 175.8,...]\n",
    "\"\"\" Quantitative , continuous \"\"\"\n",
    "# (iv) Number of mangoes exported by a farm: [500, 600, 478, 672, ...]\n",
    "\"\"\" Quantitative , Descrete \"\"\""
   ]
  },
  {
   "cell_type": "code",
   "execution_count": null,
   "id": "8633c767-7301-43d4-9c62-cb544e120263",
   "metadata": {},
   "outputs": [],
   "source": [
    "# Q5. Explain the concept of levels of measurement and give an example of a variable for each level.\n",
    "\"\"\"levels of data, refers to the different ways in which variables can be measured or categorized. \n",
    "There are four commonly recognized levels of measurement: nominal, ordinal, interval, and ratio.\n",
    "Nominal Level:-Variables at this level are categorized into distinct groups or categories.They don't have any inherent order or numerical significance\n",
    "Ordinal Level: Variables at this level can be categorized like in the nominal level, but they also possess a natural ordering or ranking.\n",
    "interval Level: Variables at this level possess both the properties of the nominal and ordinal levels, but they also have equal intervals between values.\n",
    "Ratio Level: This is the highest level of measurement. Variables at this level possess all the properties of the previous levels, including equal intervals between values. Additionally, ratio variables have a true zero point\"\"\""
   ]
  },
  {
   "cell_type": "code",
   "execution_count": null,
   "id": "03915ee1-590b-4f04-90a4-d453d54f2e72",
   "metadata": {},
   "outputs": [],
   "source": [
    "# Q6. Why is it important to understand the level of measurement when analyzing data? Provide an\n",
    "# example to illustrate your answer.\n",
    "\"\"\" Understanding the level of measurement is important for selecting appropriate statistical methods. \n",
    "Using incorrect methods can lead to misleading or incorrect conclusions. For example, \n",
    "treating an ordinal variable as a ratio variable can result in invalid analyses and misinterpretations.\"\"\""
   ]
  },
  {
   "cell_type": "code",
   "execution_count": null,
   "id": "71a74152-6e58-45ee-b83c-e10b5a70a108",
   "metadata": {},
   "outputs": [],
   "source": [
    "# Q7. How nominal data type is different from ordinal data type.\n",
    "\"\"\" Nominal data type has not ranking whereas ordinal datatype has ranking defined \"\"\" "
   ]
  },
  {
   "cell_type": "code",
   "execution_count": null,
   "id": "5094de02-7ebf-4664-8467-30b6a0391307",
   "metadata": {},
   "outputs": [],
   "source": [
    "# Q8. Which type of plot can be used to display data in terms of range?\n",
    "\"\"\" Box plot \"\"\""
   ]
  },
  {
   "cell_type": "code",
   "execution_count": null,
   "id": "473d3271-3f20-4987-bd56-f7eb175ff8ba",
   "metadata": {},
   "outputs": [],
   "source": [
    "# Q9. Describe the difference between descriptive and inferential statistics. Give an example of each\n",
    "# type of statistics and explain how they are used.\n",
    "\"\"\" Descriptive statistics involves summarizing and describing the main features of a dataset. whereas inferential statistic is the use of the data htat we have measured to form conclusion\n",
    "Example: Calculating the mean, median, and standard deviation of the heights of a group of individuals would be an example of descriptive statistics. \n",
    "Inferential Example: Conducting a survey of a random sample of 500 voters to determine the proportion of voters in a city who support a specific political candidate.\"\"\""
   ]
  },
  {
   "cell_type": "code",
   "execution_count": null,
   "id": "a915636f-190c-4a79-aae5-3514314629c2",
   "metadata": {},
   "outputs": [],
   "source": [
    "# Q10. What are some common measures of central tendency and variability used in statistics? Explain\n",
    "# how each measure can be used to describe a dataset.\n",
    "\"\"\" \n",
    "Measures of Central Tendency:\n",
    "Mean: The mean is the average value of a dataset. It is calculated by summing up all the values and dividing by the total number of observations. The mean provides a measure of the typical or average value of the data.\n",
    "Median: The median is the middle value in a dataset when it is arranged in ascending or descending order. It divides the dataset into two equal halves. The median is useful when there are outliers or extreme values that can distort the mean.\n",
    "Mode: The mode is the value or values that occur most frequently in a dataset. It represents the most common observation or category. The mode is helpful for categorical or discrete data, as it identifies the most prevalent category or response.\"\"\""
   ]
  }
 ],
 "metadata": {
  "kernelspec": {
   "display_name": "Python 3 (ipykernel)",
   "language": "python",
   "name": "python3"
  },
  "language_info": {
   "codemirror_mode": {
    "name": "ipython",
    "version": 3
   },
   "file_extension": ".py",
   "mimetype": "text/x-python",
   "name": "python",
   "nbconvert_exporter": "python",
   "pygments_lexer": "ipython3",
   "version": "3.10.8"
  }
 },
 "nbformat": 4,
 "nbformat_minor": 5
}

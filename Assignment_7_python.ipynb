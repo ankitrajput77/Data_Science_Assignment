{
 "cells": [
  {
   "cell_type": "code",
   "execution_count": 101,
   "id": "3649cb05-d82e-426a-85e0-36c4a82c4bc1",
   "metadata": {},
   "outputs": [
    {
     "name": "stdout",
     "output_type": "stream",
     "text": [
      "4134711838987085478833841242112000\n",
      "product of all numeric values is extracted ( note that from set we have only extracted duplicate value once only )\n"
     ]
    }
   ],
   "source": [
    "# Q1. Create a function which will take a list as an argument and return the product of all the numbers after creating a flat list.\n",
    "\n",
    "def product(l):\n",
    "    l1 = []\n",
    "    def flat_list(l,l1) :\n",
    "        for i in l :\n",
    "            if type(i) == int or type(i) == float :\n",
    "                l1.append(i)\n",
    "            if type(i) == set or type(i) == tuple or type(i) == list :\n",
    "                flat_list(i,l1)\n",
    "            if type(i) == dict :\n",
    "                l2 = i.values()\n",
    "                flat_list(l2,l1)\n",
    "                l3 = i.keys()\n",
    "                flat_list(l3,l1)\n",
    "    flat_list(l,l1)    \n",
    "    from functools import reduce\n",
    "    return reduce(lambda x,y : x*y , l1) \n",
    "\n",
    "list1 = [1,2,3,4, [44,55,66, True], False, (34,56,78,89,34), {1,2,3,3,2,1}, {1:34, \"key2\": [55, 67, 78, 89], 4: (45,\n",
    "22, 61, 34)}, [56, 'data science'], 'Machine Learning']\n",
    "\n",
    "print(product(list1))\n",
    "\n",
    "\n",
    "print(\"product of all numeric values is extracted ( note that from set we have only extracted duplicate value once only )\")"
   ]
  },
  {
   "cell_type": "code",
   "execution_count": 176,
   "id": "9e4f1b6a-c217-4582-8c80-57c159be1989",
   "metadata": {},
   "outputs": [
    {
     "data": {
      "text/plain": [
       "'r$dzmg$gl$yvxlnv$z$wzgz$hxrvmgrhg.'"
      ]
     },
     "execution_count": 176,
     "metadata": {},
     "output_type": "execute_result"
    }
   ],
   "source": [
    "# Q2. Write a python program for encrypting a message sent to you by your friend. The logic of encryption\n",
    "# should be such that, for a the output should be z. For b, the output should be y. For c, the output should\n",
    "# be x respectively. Also, the whitespace should be replaced with a dollar sign. Keep the punctuation\n",
    "# marks unchanged.\n",
    "\n",
    "def encryt(str):\n",
    "    result = \"\"\n",
    "    str = str.lower()\n",
    "    for i in str :\n",
    "        if i.isalpha():\n",
    "            result += chr(ord('a') + ord('z') - ord(i)) \n",
    "        elif i.isspace():\n",
    "            result+=\"$\"\n",
    "        else:\n",
    "            result+=i\n",
    "    return result\n",
    "encryt(\"I want to become a Data Scientist.\")"
   ]
  },
  {
   "cell_type": "code",
   "execution_count": null,
   "id": "217fc2c9-1742-4043-8139-1bed85ceacad",
   "metadata": {},
   "outputs": [],
   "source": []
  }
 ],
 "metadata": {
  "kernelspec": {
   "display_name": "Python 3 (ipykernel)",
   "language": "python",
   "name": "python3"
  },
  "language_info": {
   "codemirror_mode": {
    "name": "ipython",
    "version": 3
   },
   "file_extension": ".py",
   "mimetype": "text/x-python",
   "name": "python",
   "nbconvert_exporter": "python",
   "pygments_lexer": "ipython3",
   "version": "3.10.8"
  }
 },
 "nbformat": 4,
 "nbformat_minor": 5
}
